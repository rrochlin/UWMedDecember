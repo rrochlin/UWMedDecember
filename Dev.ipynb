{
 "metadata": {
  "language_info": {
   "codemirror_mode": {
    "name": "ipython",
    "version": 3
   },
   "file_extension": ".py",
   "mimetype": "text/x-python",
   "name": "python",
   "nbconvert_exporter": "python",
   "pygments_lexer": "ipython3",
   "version": "3.7.4-final"
  },
  "orig_nbformat": 2,
  "kernelspec": {
   "name": "python3",
   "display_name": "Python 3",
   "language": "python"
  }
 },
 "nbformat": 4,
 "nbformat_minor": 2,
 "cells": [
  {
   "cell_type": "code",
   "execution_count": 1,
   "metadata": {},
   "outputs": [],
   "source": [
    "import pandas as pd\n",
    "import numpy as np\n",
    "from datetime import datetime as dt\n",
    "import os\n",
    "import glob\n",
    "import json\n",
    "import matplotlib.pyplot as plt\n",
    "import math"
   ]
  },
  {
   "cell_type": "code",
   "execution_count": 2,
   "metadata": {},
   "outputs": [],
   "source": [
    "all_csv_files = glob.glob(\"./Data/*.txt\")\n",
    "# print(\"--\" + str(all_csv_files))\n",
    "loops=len(all_csv_files)"
   ]
  },
  {
   "cell_type": "code",
   "execution_count": 3,
   "metadata": {},
   "outputs": [
    {
     "output_type": "stream",
     "name": "stdout",
     "text": [
      "./Data\\S-11.txt\n",
      "./Data\\S-12.txt\n",
      "./Data\\S-13.txt\n",
      "./Data\\S-14.txt\n",
      "./Data\\S-15.txt\n",
      "./Data\\S-4.txt\n",
      "./Data\\S-8.txt\n",
      "./Data\\S-9.txt\n"
     ]
    }
   ],
   "source": [
    "data = {}\n",
    "for idx,x in enumerate(all_csv_files):\n",
    "    df = pd.read_csv(x,header=1,parse_dates=[[0,1]])\n",
    "    df.columns = df.columns.str.replace(' ', '') \n",
    "    try:\n",
    "        df.drop(df[df['Date_Time'] < pd.Timestamp('12/22/2020')].index, inplace = True)\n",
    "    except TypeError:\n",
    "        df.drop(df[df['Date_Time'] == '     0/0/0      0:0:0'].index, inplace = True)\n",
    "        df['Date_Time'] = pd.to_datetime(df['Date_Time'])\n",
    "        df.drop(df[df['Date_Time'] < pd.Timestamp('12/22/2020')].index, inplace = True)\n",
    "    data[x[7:len(x)-4]] = df.reset_index(drop=True)"
   ]
  },
  {
   "cell_type": "code",
   "execution_count": 51,
   "metadata": {},
   "outputs": [
    {
     "output_type": "execute_result",
     "data": {
      "text/plain": [
       "Timestamp('2020-12-22 13:40:14')"
      ]
     },
     "metadata": {},
     "execution_count": 51
    }
   ],
   "source": [
    "data['S-5']['Date_Time'][0]"
   ]
  },
  {
   "cell_type": "code",
   "execution_count": 32,
   "metadata": {},
   "outputs": [
    {
     "output_type": "execute_result",
     "data": {
      "text/plain": [
       "393     2020/12/22     14:2:0\n",
       "394     2020/12/22    14:2:10\n",
       "395     2020/12/22    14:2:20\n",
       "396     2020/12/22    14:2:30\n",
       "397     2020/12/22    14:2:40\n",
       "                ...          \n",
       "1510    2020/12/22     17:9:3\n",
       "1511    2020/12/22    17:9:13\n",
       "1512    2020/12/22    17:9:23\n",
       "1513    2020/12/22    17:9:33\n",
       "1514    2020/12/22    17:9:43\n",
       "Name: Date_Time, Length: 1122, dtype: object"
      ]
     },
     "metadata": {},
     "execution_count": 32
    }
   ],
   "source": [
    "df['Date_Time']"
   ]
  },
  {
   "cell_type": "code",
   "execution_count": null,
   "metadata": {},
   "outputs": [],
   "source": []
  }
 ]
}