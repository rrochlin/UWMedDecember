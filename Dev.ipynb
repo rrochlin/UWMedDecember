{
 "metadata": {
  "language_info": {
   "codemirror_mode": {
    "name": "ipython",
    "version": 3
   },
   "file_extension": ".py",
   "mimetype": "text/x-python",
   "name": "python",
   "nbconvert_exporter": "python",
   "pygments_lexer": "ipython3",
   "version": "3.8.3-final"
  },
  "orig_nbformat": 2,
  "kernelspec": {
   "name": "python3",
   "display_name": "Python 3",
   "language": "python"
  }
 },
 "nbformat": 4,
 "nbformat_minor": 2,
 "cells": [
  {
   "source": [
    "### General Imports"
   ],
   "cell_type": "markdown",
   "metadata": {}
  },
  {
   "cell_type": "code",
   "execution_count": 2,
   "metadata": {},
   "outputs": [],
   "source": [
    "import pandas as pd\n",
    "import numpy as np\n",
    "from datetime import datetime as dt\n",
    "import os\n",
    "import glob\n",
    "import json\n",
    "import matplotlib.pyplot as plt"
   ]
  },
  {
   "source": [
    "### Data Cleaning\n",
    "Cleaning out 0 entries and any entries not in the timerange we are looking at.\n",
    "Then dealing with sensors having different time zones"
   ],
   "cell_type": "markdown",
   "metadata": {}
  },
  {
   "cell_type": "code",
   "execution_count": 164,
   "metadata": {},
   "outputs": [
    {
     "output_type": "stream",
     "name": "stdout",
     "text": [
      "S-01     2020-12-22 12:49:10      2020-12-22 16:09:31\nS-02  NO DATA PRESENT    NO DATA PRESENT\nS-03     2020-12-22 12:49:03      2020-12-22 16:09:35\nS-04     2020-12-22 12:49:07      2020-12-22 16:09:34\nS-05     2020-12-22 12:49:01      2020-12-22 16:10:50\nS-06     2020-12-22 12:49:12      2020-12-22 16:09:25\nS-07     2020-12-22 12:49:07      2020-12-22 16:12:53\nS-08     2020-12-22 12:49:24      2020-12-22 16:57:24\nS-09     2020-12-22 12:49:00      2020-12-22 16:11:30\nS-11     2020-12-22 13:02:00      2020-12-22 16:09:43\nS-12     2020-12-22 12:49:06      2020-12-22 16:10:06\nS-13     2020-12-22 12:49:06      2020-12-22 16:08:44\nS-14     2020-12-22 12:49:09      2020-12-22 16:13:45\nS-15     2020-12-22 12:49:03      2020-12-22 16:10:00\nS-BU1     2020-12-22 12:49:00      2020-12-22 16:11:40\nS-BU2     2020-12-22 12:49:00      2020-12-22 16:10:30\n"
     ]
    }
   ],
   "source": [
    "all_csv_files = glob.glob(\"./Data/*.txt\")\n",
    "loops=len(all_csv_files)\n",
    "data = {}\n",
    "# Here we can select the expirement time\n",
    "cleaningCutOffTime = pd.Timestamp('12/22/2020 12:49')\n",
    "for idx,x in enumerate(all_csv_files):\n",
    "    df = pd.read_csv(\n",
    "        x,\n",
    "        header=1,\n",
    "        parse_dates = [[0,1]]\n",
    "        ).dropna(how='all')\n",
    "\n",
    "    df.columns = df.columns.str.replace(' ', '') \n",
    "    try:\n",
    "        # Here we need to set up our time changing parameters\n",
    "        # For this instance we need to roll back all sensors by 1 hour\n",
    "        # except the two BU sensors which needed to be rolled back by\n",
    "        # 8 hours.\n",
    "        if not 'BU' in x:\n",
    "            df['Date_Time'] = df['Date_Time']-pd.Timedelta(hours = 1)\n",
    "        else:\n",
    "            df['Date_Time'] = df['Date_Time']-pd.Timedelta(hours = 8)\n",
    "        df.drop(df[df['Date_Time'] < cleaningCutOffTime].index, inplace = True)\n",
    "        # In the instance of a TypeError occuring, we are bascically dealing with\n",
    "        # the 0 timestamps causing an error in the read_csv parser and not \n",
    "        # converting the Date_Time column to timestamp data type.\n",
    "\n",
    "    except TypeError:\n",
    "        df.drop(df[df['Date_Time'] == '     0/0/0      0:0:0'].index, inplace = True)\n",
    "        df['Date_Time'] = pd.to_datetime(df['Date_Time'])\n",
    "        if not 'BU' in x:\n",
    "            df['Date_Time'] = df['Date_Time']-pd.Timedelta(hours = 1)\n",
    "        else:\n",
    "            df['Date_Time'] = df['Date_Time']-pd.Timedelta(hours = 8)\n",
    "        df.drop(df[df['Date_Time'] < cleaningCutOffTime].index, inplace = True) \n",
    "    data[x[7:len(x)-4]] = df.reset_index(drop=True)\n",
    "\n",
    "    # ends by printing out the new start and stop times of the data sets\n",
    "for x in data:\n",
    "    try:\n",
    "        print(x,'   ',data[x]['Date_Time'].iloc[0],'    ',data[x]['Date_Time'].iloc[-1])\n",
    "    except:\n",
    "        print(x,' NO DATA PRESENT    NO DATA PRESENT')\n"
   ]
  },
  {
   "source": [
    "### Checking Data\n",
    "Here we scan through the data for irregularities in data recording."
   ],
   "cell_type": "markdown",
   "metadata": {}
  },
  {
   "cell_type": "code",
   "execution_count": 176,
   "metadata": {
    "tags": []
   },
   "outputs": [
    {
     "output_type": "stream",
     "name": "stdout",
     "text": [
      "208  possible errors in  S-01\n",
      "[26, 21, 17, 13, 19, 30, 20, 11]\n",
      "0  possible errors in  S-02\n",
      "[]\n",
      "219  possible errors in  S-03\n",
      "[21, 12, 25, 27, 16, 18, 62, 84, 51, 20, 31, 11, 22, 9, 13, 0, 90, 15, 70, 59, 17, 19, 63]\n",
      "220  possible errors in  S-04\n",
      "[21, 22, 17, 23, 60, 18, 35, 24, 78, 19, 20, 13, 25, 11, 49]\n",
      "220  possible errors in  S-05\n",
      "[26, 21, 16, 17, 23, 12, 18, 7, 19, 24, 25, 20, 15]\n",
      "199  possible errors in  S-06\n",
      "[28, 20, 85]\n",
      "212  possible errors in  S-07\n",
      "[9, 16, 22, 14, 12, 34, 18, 24, 19, 30, 25, 20, 15, 17, 13, 11]\n",
      "412  possible errors in  S-08\n",
      "[34, 35, 138, 139, 140, 37]\n",
      "5  possible errors in  S-09\n",
      "[9, 17, 3, 31, 20]\n",
      "11  possible errors in  S-11\n",
      "[16, 14, 18, 15, 11]\n",
      "2  possible errors in  S-12\n",
      "[8, 12]\n",
      "13  possible errors in  S-13\n",
      "[16, 14, 9, 18, 19, 41, 20, 15, 11]\n",
      "13  possible errors in  S-14\n",
      "[16, 14, 17, 12, 9, 20, 15, 11]\n",
      "8  possible errors in  S-15\n",
      "[33, 17, 0, 30, 25, 150, 11]\n",
      "582  possible errors in  S-BU1\n",
      "[61, 40, 241, 19, 240, 20]\n",
      "42  possible errors in  S-BU2\n",
      "[29, 30, 10861]\n"
     ]
    }
   ],
   "source": [
    "errors = {}\n",
    "# Enter the expected interval here\n",
    "interval = 10\n",
    "for x in data:\n",
    "    errors[x] = set(())\n",
    "    counter = 0\n",
    "    temp = data[x]\n",
    "    for idx,i in enumerate(temp['Date_Time']):\n",
    "        try:\n",
    "            if not ((temp['Date_Time'][idx+1] - i) == pd.Timedelta(seconds=interval)):\n",
    "                errors[x].add(temp['Date_Time'][idx+1] - i)\n",
    "                counter += 1\n",
    "        except:\n",
    "            continue\n",
    "    print(str(counter),' possible errors in ', x)\n",
    "    print([i.seconds for i in errors[x]])\n"
   ]
  },
  {
   "cell_type": "code",
   "execution_count": 114,
   "metadata": {},
   "outputs": [],
   "source": [
    "collect = pd.Timedelta(0)\n",
    "for i in range(10):\n",
    "    collect += data['S-1']['Date_Time'][1]-data['S-1']['Date_Time'][0]"
   ]
  },
  {
   "cell_type": "code",
   "execution_count": 117,
   "metadata": {},
   "outputs": [
    {
     "output_type": "execute_result",
     "data": {
      "text/plain": [
       "2476"
      ]
     },
     "metadata": {},
     "execution_count": 117
    }
   ],
   "source": [
    "counter"
   ]
  },
  {
   "cell_type": "code",
   "execution_count": 170,
   "metadata": {},
   "outputs": [
    {
     "output_type": "execute_result",
     "data": {
      "text/plain": [
       "{'a', 'e', 'l', 'p'}"
      ]
     },
     "metadata": {},
     "execution_count": 170
    }
   ],
   "source": [
    "a = set(('apple'))\n",
    "a.add('a')\n",
    "a"
   ]
  },
  {
   "cell_type": "code",
   "execution_count": null,
   "metadata": {},
   "outputs": [],
   "source": []
  },
  {
   "cell_type": "code",
   "execution_count": 166,
   "metadata": {},
   "outputs": [
    {
     "output_type": "execute_result",
     "data": {
      "text/plain": [
       "{'S-01': {Timedelta('0 days 00:00:11'),\n",
       "  Timedelta('0 days 00:00:13'),\n",
       "  Timedelta('0 days 00:00:17'),\n",
       "  Timedelta('0 days 00:00:19'),\n",
       "  Timedelta('0 days 00:00:20'),\n",
       "  Timedelta('0 days 00:00:21'),\n",
       "  Timedelta('0 days 00:00:26'),\n",
       "  Timedelta('0 days 00:00:30')},\n",
       " 'S-02': set(),\n",
       " 'S-03': {Timedelta('0 days 00:00:00'),\n",
       "  Timedelta('0 days 00:00:09'),\n",
       "  Timedelta('0 days 00:00:11'),\n",
       "  Timedelta('0 days 00:00:12'),\n",
       "  Timedelta('0 days 00:00:13'),\n",
       "  Timedelta('0 days 00:00:15'),\n",
       "  Timedelta('0 days 00:00:16'),\n",
       "  Timedelta('0 days 00:00:17'),\n",
       "  Timedelta('0 days 00:00:18'),\n",
       "  Timedelta('0 days 00:00:19'),\n",
       "  Timedelta('0 days 00:00:20'),\n",
       "  Timedelta('0 days 00:00:21'),\n",
       "  Timedelta('0 days 00:00:22'),\n",
       "  Timedelta('0 days 00:00:25'),\n",
       "  Timedelta('0 days 00:00:27'),\n",
       "  Timedelta('0 days 00:00:31'),\n",
       "  Timedelta('0 days 00:00:51'),\n",
       "  Timedelta('0 days 00:00:59'),\n",
       "  Timedelta('0 days 00:01:02'),\n",
       "  Timedelta('0 days 00:01:03'),\n",
       "  Timedelta('0 days 00:01:10'),\n",
       "  Timedelta('0 days 00:01:24'),\n",
       "  Timedelta('0 days 00:01:30')},\n",
       " 'S-04': {Timedelta('0 days 00:00:11'),\n",
       "  Timedelta('0 days 00:00:13'),\n",
       "  Timedelta('0 days 00:00:17'),\n",
       "  Timedelta('0 days 00:00:18'),\n",
       "  Timedelta('0 days 00:00:19'),\n",
       "  Timedelta('0 days 00:00:20'),\n",
       "  Timedelta('0 days 00:00:21'),\n",
       "  Timedelta('0 days 00:00:22'),\n",
       "  Timedelta('0 days 00:00:23'),\n",
       "  Timedelta('0 days 00:00:24'),\n",
       "  Timedelta('0 days 00:00:25'),\n",
       "  Timedelta('0 days 00:00:35'),\n",
       "  Timedelta('0 days 00:00:49'),\n",
       "  Timedelta('0 days 00:01:00'),\n",
       "  Timedelta('0 days 00:01:18')},\n",
       " 'S-05': {Timedelta('0 days 00:00:07'),\n",
       "  Timedelta('0 days 00:00:12'),\n",
       "  Timedelta('0 days 00:00:15'),\n",
       "  Timedelta('0 days 00:00:16'),\n",
       "  Timedelta('0 days 00:00:17'),\n",
       "  Timedelta('0 days 00:00:18'),\n",
       "  Timedelta('0 days 00:00:19'),\n",
       "  Timedelta('0 days 00:00:20'),\n",
       "  Timedelta('0 days 00:00:21'),\n",
       "  Timedelta('0 days 00:00:23'),\n",
       "  Timedelta('0 days 00:00:24'),\n",
       "  Timedelta('0 days 00:00:25'),\n",
       "  Timedelta('0 days 00:00:26')},\n",
       " 'S-06': {Timedelta('0 days 00:00:20'),\n",
       "  Timedelta('0 days 00:00:28'),\n",
       "  Timedelta('0 days 00:01:25')},\n",
       " 'S-07': {Timedelta('0 days 00:00:09'),\n",
       "  Timedelta('0 days 00:00:11'),\n",
       "  Timedelta('0 days 00:00:12'),\n",
       "  Timedelta('0 days 00:00:13'),\n",
       "  Timedelta('0 days 00:00:14'),\n",
       "  Timedelta('0 days 00:00:15'),\n",
       "  Timedelta('0 days 00:00:16'),\n",
       "  Timedelta('0 days 00:00:17'),\n",
       "  Timedelta('0 days 00:00:18'),\n",
       "  Timedelta('0 days 00:00:19'),\n",
       "  Timedelta('0 days 00:00:20'),\n",
       "  Timedelta('0 days 00:00:22'),\n",
       "  Timedelta('0 days 00:00:24'),\n",
       "  Timedelta('0 days 00:00:25'),\n",
       "  Timedelta('0 days 00:00:30'),\n",
       "  Timedelta('0 days 00:00:34')},\n",
       " 'S-08': {Timedelta('0 days 00:00:34'),\n",
       "  Timedelta('0 days 00:00:35'),\n",
       "  Timedelta('0 days 00:00:37'),\n",
       "  Timedelta('0 days 00:02:18'),\n",
       "  Timedelta('0 days 00:02:19'),\n",
       "  Timedelta('0 days 00:02:20')},\n",
       " 'S-09': {Timedelta('0 days 00:00:03'),\n",
       "  Timedelta('0 days 00:00:09'),\n",
       "  Timedelta('0 days 00:00:17'),\n",
       "  Timedelta('0 days 00:00:20'),\n",
       "  Timedelta('0 days 00:00:31')},\n",
       " 'S-11': {Timedelta('0 days 00:00:11'),\n",
       "  Timedelta('0 days 00:00:14'),\n",
       "  Timedelta('0 days 00:00:15'),\n",
       "  Timedelta('0 days 00:00:16'),\n",
       "  Timedelta('0 days 00:00:18')},\n",
       " 'S-12': {Timedelta('0 days 00:00:08'), Timedelta('0 days 00:00:12')},\n",
       " 'S-13': {Timedelta('0 days 00:00:09'),\n",
       "  Timedelta('0 days 00:00:11'),\n",
       "  Timedelta('0 days 00:00:14'),\n",
       "  Timedelta('0 days 00:00:15'),\n",
       "  Timedelta('0 days 00:00:16'),\n",
       "  Timedelta('0 days 00:00:18'),\n",
       "  Timedelta('0 days 00:00:19'),\n",
       "  Timedelta('0 days 00:00:20'),\n",
       "  Timedelta('0 days 00:00:41')},\n",
       " 'S-14': {Timedelta('0 days 00:00:09'),\n",
       "  Timedelta('0 days 00:00:11'),\n",
       "  Timedelta('0 days 00:00:12'),\n",
       "  Timedelta('0 days 00:00:14'),\n",
       "  Timedelta('0 days 00:00:15'),\n",
       "  Timedelta('0 days 00:00:16'),\n",
       "  Timedelta('0 days 00:00:17'),\n",
       "  Timedelta('0 days 00:00:20')},\n",
       " 'S-15': {Timedelta('0 days 00:00:00'),\n",
       "  Timedelta('0 days 00:00:11'),\n",
       "  Timedelta('0 days 00:00:17'),\n",
       "  Timedelta('0 days 00:00:25'),\n",
       "  Timedelta('0 days 00:00:30'),\n",
       "  Timedelta('0 days 00:00:33'),\n",
       "  Timedelta('0 days 00:02:30')},\n",
       " 'S-BU1': {Timedelta('0 days 00:00:19'),\n",
       "  Timedelta('0 days 00:00:20'),\n",
       "  Timedelta('0 days 00:00:40'),\n",
       "  Timedelta('0 days 00:01:01'),\n",
       "  Timedelta('0 days 00:04:00'),\n",
       "  Timedelta('0 days 00:04:01')},\n",
       " 'S-BU2': {Timedelta('0 days 00:00:29'),\n",
       "  Timedelta('0 days 00:00:30'),\n",
       "  Timedelta('0 days 03:01:01')}}"
      ]
     },
     "metadata": {},
     "execution_count": 166
    }
   ],
   "source": [
    "errors"
   ]
  },
  {
   "cell_type": "code",
   "execution_count": 91,
   "metadata": {},
   "outputs": [
    {
     "output_type": "execute_result",
     "data": {
      "text/plain": [
       "{'apple'}"
      ]
     },
     "metadata": {},
     "execution_count": 91
    }
   ],
   "source": [
    "temp = set(())\n",
    "temp.add('apple')\n",
    "temp"
   ]
  },
  {
   "cell_type": "code",
   "execution_count": null,
   "metadata": {},
   "outputs": [],
   "source": []
  }
 ]
}