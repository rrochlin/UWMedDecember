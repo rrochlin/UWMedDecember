{
 "metadata": {
  "language_info": {
   "codemirror_mode": {
    "name": "ipython",
    "version": 3
   },
   "file_extension": ".py",
   "mimetype": "text/x-python",
   "name": "python",
   "nbconvert_exporter": "python",
   "pygments_lexer": "ipython3",
   "version": "3.8.5"
  },
  "orig_nbformat": 2,
  "kernelspec": {
   "name": "python3",
   "display_name": "Python 3",
   "language": "python"
  },
  "metadata": {
   "interpreter": {
    "hash": "5751d7c496c272386542b26abd80dd065779a39feb74bf22f2b4e5e7f629ef29"
   }
  }
 },
 "nbformat": 4,
 "nbformat_minor": 2,
 "cells": [
  {
   "source": [
    "### General Imports"
   ],
   "cell_type": "markdown",
   "metadata": {}
  },
  {
   "cell_type": "code",
   "execution_count": 1,
   "metadata": {},
   "outputs": [],
   "source": [
    "import pandas as pd\n",
    "import numpy as np\n",
    "from datetime import datetime as dt\n",
    "import os\n",
    "import glob\n",
    "from cleanUp import cleanUp\n",
    "from fillDf import fillDf\n",
    "from fixYearStamp import fixYearStamp\n",
    "from sklearn.cluster import KMeans\n",
    "import time as clock\n"
   ]
  },
  {
   "cell_type": "code",
   "execution_count": 2,
   "metadata": {},
   "outputs": [],
   "source": [
    "begin = clock.time()"
   ]
  },
  {
   "source": [
    "### Data Cleaning\n",
    "Passing the sensor data through the cleanUp function to get fix timestamps and delete null timestamps."
   ],
   "cell_type": "markdown",
   "metadata": {}
  },
  {
   "cell_type": "code",
   "execution_count": 3,
   "metadata": {},
   "outputs": [],
   "source": [
    "all_csv_files = glob.glob(\"./Data/*.txt\")\n",
    "# insert the desired start time\n",
    "cutOffTime = '12/22/2020 12:49:00'\n",
    "endTime = '12/22/2020 16:10:00'\n",
    "# insert the time rectifying offsets. default of for nothing {'':0}\n",
    "sensorConditions = {'S-01':1,'S-02':1,'S-03':1,'S-04':1,'S-05':1,'S-06':1,'S-07':1,'S-08':1,'S-09':1,'S-10':1,'S-11':1,'S-12':1,'S-13':1,'S-14':1,'S-15':1,'S-BU1':8,'S-BU2':8}\n",
    "#This indicates which columns to keep. Here we're taking all of the dP info and the timestamps\n",
    "columns = [0,1,6,7,8,9,10,11]\n",
    "# Enable Data Checking\n",
    "DataChecking = True\n",
    "# Here are obversed timestamps that need to removed from the data\n",
    "badTimes = ['     0/0/0      0:0:0','2165/165/165 165:165:85']\n",
    "# Controls wether zones will be created automatically or by k-means clusters\n",
    "ZoneAutomation = False\n",
    "# Sets either the binning or the manual zones\n",
    "numberOfZones = 4\n",
    "# Sensors to exclude from zone\n",
    "outdoorSensors = ['S-16','S-17','S-18','S-19']\n",
    "# 10s of seconds before nebulization to include in the expirement csv files\n",
    "preCursorFactor = 6\n",
    "# which particle to analyze\n",
    "particle = 'Dp>0.3'"
   ]
  },
  {
   "cell_type": "code",
   "execution_count": 4,
   "metadata": {},
   "outputs": [],
   "source": [
    "expTRange = {\n",
    "    'OR7 Unblocked':\n",
    "    [pd.Timestamp('12-22-2020 13:08:00'),\n",
    "    pd.Timestamp('12-22-2020 13:16:30'),\n",
    "    pd.Timestamp('12-22-2020 13:34:15')],\n",
    "    'OR7 Blocked':\n",
    "    [pd.Timestamp('12-22-2020 13:44:30'),\n",
    "    pd.Timestamp('12-22-2020 13:53:00'),\n",
    "    pd.Timestamp('12-22-2020 13:59:00')],\n",
    "    'OR16 Unblocked':\n",
    "    [pd.Timestamp('12-22-2020 14:38:00'),\n",
    "    pd.Timestamp('12-22-2020 14:44:00'),\n",
    "    pd.Timestamp('12-22-2020 14:50:00')],\n",
    "    'OR16 Blocked 1':\n",
    "    [pd.Timestamp('12-22-2020 14:58:30'),\n",
    "    pd.Timestamp('12-22-2020 15:05:15'),\n",
    "    pd.Timestamp('12-22-2020 15:11:00')],\n",
    "    'OR16 Blocked 2':\n",
    "    [pd.Timestamp('12-22-2020 15:17:30'),\n",
    "    pd.Timestamp('12-22-2020 15:23:00'),\n",
    "    pd.Timestamp('12-22-2020 15:30:00')],\n",
    "}\n",
    "\n",
    "#enter in the expirement length as seconds/10\n",
    "expTLen = {\n",
    "    'OR7 Unblocked' :   5*6,\n",
    "    'OR7 Blocked':      5*6,\n",
    "    'OR16 Unblocked':   5*6,\n",
    "    'OR16 Blocked 1':   5*6,\n",
    "    'OR16 Blocked 2':   5*6\n",
    "}\n",
    "\n",
    "# Manual Zone set up notice how we are missing S-14\n",
    "zoneList = {\n",
    "    'Zone 1' : ['S-13','S-14'],\n",
    "    'Zone 2' : ['S-09','S-11','S-12'],\n",
    "    'Zone 3' : ['S-01','S-03','S-04','S-05','S-06','S-07','S-08','S-15'],\n",
    "    'Zone 4' : ['S-BU1']\n",
    "}\n",
    "if not ZoneAutomation:\n",
    "    numberOfZones = len(zoneList)"
   ]
  },
  {
   "cell_type": "code",
   "execution_count": 5,
   "metadata": {},
   "outputs": [
    {
     "output_type": "execute_result",
     "data": {
      "text/plain": [
       "['./Data\\\\S-01.txt',\n",
       " './Data\\\\S-03.txt',\n",
       " './Data\\\\S-04.txt',\n",
       " './Data\\\\S-05.txt',\n",
       " './Data\\\\S-06.txt',\n",
       " './Data\\\\S-07.txt',\n",
       " './Data\\\\S-08.txt',\n",
       " './Data\\\\S-09.txt',\n",
       " './Data\\\\S-11.txt',\n",
       " './Data\\\\S-12.txt',\n",
       " './Data\\\\S-13.txt',\n",
       " './Data\\\\S-14.txt',\n",
       " './Data\\\\S-15.txt',\n",
       " './Data\\\\S-BU1.txt']"
      ]
     },
     "metadata": {},
     "execution_count": 5
    }
   ],
   "source": [
    "all_csv_files"
   ]
  },
  {
   "source": [
    "Changed this to markdown so it won't run twice, had to fix the timestamps on S-12\n",
    "filePath        = all_csv_files[11]\n",
    "incorrectString = '21/3/22'\n",
    "date            = '3/22/2021'\n",
    "charTimeStart   = 11\n",
    "charTimeEnd     = 21\n",
    "offset          = 0\n",
    "fixYearStamp(filePath,incorrectString,date,charTimeStart,charTimeEnd,offset)"
   ],
   "cell_type": "markdown",
   "metadata": {}
  },
  {
   "cell_type": "code",
   "execution_count": 6,
   "metadata": {},
   "outputs": [
    {
     "output_type": "stream",
     "name": "stdout",
     "text": [
      "S-01     2020-12-22 12:49:10      2020-12-22 16:09:31       mod: yes\nS-03     2020-12-22 12:49:03      2020-12-22 16:09:35       mod: yes\nS-04     2020-12-22 12:49:07      2020-12-22 16:09:34       mod: yes\nS-05     2020-12-22 12:49:01      2020-12-22 16:10:50       mod: yes\nS-06     2020-12-22 12:49:12      2020-12-22 16:09:25       mod: yes\nS-07     2020-12-22 12:49:07      2020-12-22 16:12:53       mod: yes\nS-08     2020-12-22 12:49:24      2020-12-22 16:57:24       mod: yes\nS-09     2020-12-22 12:49:00      2020-12-22 16:11:30       mod: yes\nS-11     2020-12-22 13:02:00      2020-12-22 16:09:43       mod: yes\nS-12     2020-12-22 12:49:06      2020-12-22 16:10:06       mod: yes\nS-13     2020-12-22 12:49:06      2020-12-22 16:08:44       mod: yes\nS-14     2020-12-22 12:49:09      2020-12-22 16:13:45       mod: yes\nS-15     2020-12-22 12:49:03      2020-12-22 16:10:00       mod: yes\nS-BU1     2020-12-22 12:49:00      2020-12-22 16:11:40       mod: yes\n"
     ]
    }
   ],
   "source": [
    "data = cleanUp(cutOffTime,sensorConditions,all_csv_files,columns,badTimes)"
   ]
  },
  {
   "source": [
    "### Exporting Data\n",
    "Here we can export the organized data frames as csv files"
   ],
   "cell_type": "markdown",
   "metadata": {}
  },
  {
   "cell_type": "code",
   "execution_count": 7,
   "metadata": {},
   "outputs": [],
   "source": [
    "directory = './proccessedData'\n",
    "for x in data:\n",
    "    temp=data[x]\n",
    "    if not os.path.exists(directory):\n",
    "        os.makedirs(directory)\n",
    "    location = os.path.join(directory,x+'.csv')\n",
    "    temp.to_csv(location,index=False)"
   ]
  },
  {
   "source": [
    "### Checking Data\n",
    "Here we scan through the data for irregularities in data recording."
   ],
   "cell_type": "markdown",
   "metadata": {}
  },
  {
   "cell_type": "code",
   "execution_count": 8,
   "metadata": {
    "tags": []
   },
   "outputs": [
    {
     "output_type": "stream",
     "name": "stdout",
     "text": [
      "20.86 % potential error in  S-01\n",
      "  26  21  17  13  19  30  20  11\n",
      "   1   1   6   1   2   1 195   1\n",
      "\n",
      "22.86 % potential error in  S-03\n",
      "  21  12  25  27  16  18  62  84  51  20  31  11  22   9  13   0  90  15  70  59  17  19  63\n",
      "   1   2   1   2   1   7   2   1   1 171   1   3   2   1   1   1   1   1   1   1  12   4   1\n",
      "\n",
      "22.59 % potential error in  S-04\n",
      "  21  22  17  23  60  18  35  24  78  19  20  13  25  11  49\n",
      "   1   2  12   1   1  10   3   1   1   2 180   1   1   3   1\n",
      "\n",
      "22.07 % potential error in  S-05\n",
      "  26  21  16  17  23  12  18   7  19  24  25  20  15\n",
      "   1   4   1  10   2   1   7   1   2   1   1 188   1\n",
      "\n",
      "19.98 % potential error in  S-06\n",
      "  28  20  85\n",
      "   1 197   1\n",
      "\n",
      "20.89 % potential error in  S-07\n",
      "   9  16  22  14  12  34  18  24  19  30  25  20  15  17  13  11\n",
      "   1   1   2   1   1   1   1   1   9   2   1 184   2   2   1   2\n",
      "\n",
      "99.76 % potential error in  S-08\n",
      "  34  35 138 139 140  37\n",
      " 164 241   3   2   1   1\n",
      "\n",
      "0.41 % potential error in  S-09\n",
      "   9  17   3  31  20\n",
      "   1   1   1   1   1\n",
      "\n",
      "0.98 % potential error in  S-11\n",
      "  16  14  18  15  11\n",
      "   2   3   1   4   1\n",
      "\n",
      "0.17 % potential error in  S-12\n",
      "   8  12\n",
      "   1   1\n",
      "\n",
      "1.09 % potential error in  S-13\n",
      "  16  14   9  18  19  41  20  15  11\n",
      "   2   3   1   1   1   1   1   1   2\n",
      "\n",
      "1.06 % potential error in  S-14\n",
      "  16  14  17  12   9  20  15  11\n",
      "   1   3   1   2   1   1   1   3\n",
      "\n",
      "0.67 % potential error in  S-15\n",
      "  33  17   0  30  25 150  11\n",
      "   1   1   1   1   1   1   2\n",
      "\n",
      "99.83 % potential error in  S-BU1\n",
      "  61  40 241  19 240  20\n",
      "   1   2   1   2   1 575\n",
      "\n"
     ]
    }
   ],
   "source": [
    "if DataChecking:\n",
    "    directory = './dataInfo'\n",
    "    if not os.path.exists(directory):\n",
    "        os.makedirs(directory)\n",
    "    fout = open('./dataInfo/time_Frequency_Error_Log.txt','wt')\n",
    "    errors = {}\n",
    "    errorCount = {}\n",
    "    # Enter the expected interval here\n",
    "    interval = 10\n",
    "    for x in data:\n",
    "        # errors keeps track of length of each time interval error that occurs\n",
    "        errors[x] = set(())\n",
    "        # errorCount keeps track of how many times each time interval error occured\n",
    "        errorCount[x] = {}\n",
    "        # counter keeps track of the total time interval errors per sensor\n",
    "        counter = 0\n",
    "        #shows the total\n",
    "        temp = data[x]\n",
    "        for idx,i in enumerate(temp['Date_Time']):\n",
    "            try:\n",
    "                if not ((temp['Date_Time'][idx+1] - i) == pd.Timedelta(seconds=interval)):\n",
    "                    timeErr = temp['Date_Time'][idx+1] - i\n",
    "                    if str(timeErr.seconds) in errorCount[x]:\n",
    "                        errorCount[x][str(timeErr.seconds)] +=1\n",
    "                    else:\n",
    "                        errorCount[x][str(timeErr.seconds)] = 1\n",
    "\n",
    "                    errors[x].add(timeErr)\n",
    "\n",
    "\n",
    "                    counter += 1\n",
    "            except:\n",
    "                continue\n",
    "\n",
    "        print(str(round(counter/len(temp)*100,2)),'% potential error in ', x)\n",
    "        fout.write('potential error in '+ x +'\\n' + str(round(counter/len(temp)*100,2))+'%'+'\\n')\n",
    "\n",
    "        # display the different types of errors\n",
    "        lst = [i.seconds for i in errors[x]]\n",
    "        frmt = \"{:>4}\"*len(lst)\n",
    "        print(frmt.format(*lst))\n",
    "        fout.write(\"Time Errors\" + frmt.format(*lst)+ '\\n')\n",
    "\n",
    "        # display the quantity of each type of error\n",
    "        lst = [errorCount[x][str(i.seconds)] for i in errors[x]]\n",
    "        frmt = \"{:>4}\"*len(lst)\n",
    "        print(frmt.format(*lst))\n",
    "        fout.write(\"# Observed \" + frmt.format(*lst)+ '\\n')\n",
    "\n",
    "        print()\n",
    "        fout.write('\\n')\n",
    "\n",
    "\n",
    "    fout.close()"
   ]
  },
  {
   "source": [
    "Notice there are quite a few repeating errors here in our data set. We can either choose to interpolate the data inbetween or pad it with 0s. For gaps <40s i will interpolate, but for gaps >40 i will 0 pad."
   ],
   "cell_type": "markdown",
   "metadata": {}
  },
  {
   "cell_type": "code",
   "execution_count": 9,
   "metadata": {
    "tags": []
   },
   "outputs": [
    {
     "output_type": "stream",
     "name": "stdout",
     "text": [
      "S-01   ['% of values from interpolation : 34.219', '% of values from 0-padding : 0.0', '% of values not changed : 65.781']\n",
      "S-03   ['% of values from interpolation : 33.306', '% of values from 0-padding : 4.402', '% of values not changed : 62.292']\n",
      "S-04   ['% of values from interpolation : 34.967', '% of values from 0-padding : 1.578', '% of values not changed : 63.455']\n",
      "S-05   ['% of values from interpolation : 35.323', '% of values from 0-padding : 0.0', '% of values not changed : 64.677']\n",
      "S-06   ['% of values from interpolation : 33.167', '% of values from 0-padding : 0.665', '% of values not changed : 66.168']\n",
      "S-07   ['% of values from interpolation : 33.831', '% of values from 0-padding : 0.0', '% of values not changed : 66.169']\n",
      "S-08   ['% of values from interpolation : 94.186', '% of values from 0-padding : 5.814', '% of values not changed : 0.0']\n",
      "S-09   ['% of values from interpolation : 0.415', '% of values from 0-padding : 0.0', '% of values not changed : 99.585']\n",
      "S-11   ['% of values from interpolation : 0.83', '% of values from 0-padding : 6.556', '% of values not changed : 92.614']\n",
      "S-12   ['% of values from interpolation : 0.0', '% of values from 0-padding : 0.0', '% of values not changed : 100.0']\n",
      "S-13   ['% of values from interpolation : 1.334', '% of values from 0-padding : 0.0', '% of values not changed : 98.666']\n",
      "S-14   ['% of values from interpolation : 0.829', '% of values from 0-padding : 0.0', '% of values not changed : 99.171']\n",
      "S-15   ['% of values from interpolation : 0.995', '% of values from 0-padding : 1.244', '% of values not changed : 97.761']\n",
      "S-BU1   ['% of values from interpolation : 95.104', '% of values from 0-padding : 4.647', '% of values not changed : 0.249']\n"
     ]
    }
   ],
   "source": [
    "\n",
    "fout = open('./dataInfo/interpolation_Effect_Log.txt','wt')\n",
    "interpDF = {}\n",
    "\n",
    "for x in data:\n",
    "    df = data[x]\n",
    "    cutoff = 40\n",
    "    freq = '10S'\n",
    "    try:\n",
    "        interpDF[x],accuracy = fillDf(df,freq,cutOffTime,endTime,cutoff)\n",
    "        print(x,' ',accuracy)\n",
    "        fout.write(x+' '+ '\\n' + accuracy[0]+ '\\n'+ accuracy[1]+ '\\n'+ accuracy[2] +'\\n\\n')\n",
    "    except IndexError:\n",
    "        print(x,'NO DATA')\n",
    "        fout.write(x+'NO DATA'+'\\n')\n",
    "fout.close()        "
   ]
  },
  {
   "source": [
    "### Export Data\n",
    "export the newly interpolated data"
   ],
   "cell_type": "markdown",
   "metadata": {}
  },
  {
   "cell_type": "code",
   "execution_count": 10,
   "metadata": {},
   "outputs": [],
   "source": [
    "directory = './interpolatedData'\n",
    "for x in interpDF:\n",
    "    temp=interpDF[x]\n",
    "    if not os.path.exists(directory):\n",
    "        os.makedirs(directory)\n",
    "    location = os.path.join(directory,x+'.csv')\n",
    "    temp.to_csv(location,index=False)"
   ]
  },
  {
   "source": [
    "### Merge the DataFrames"
   ],
   "cell_type": "markdown",
   "metadata": {}
  },
  {
   "cell_type": "code",
   "execution_count": 11,
   "metadata": {},
   "outputs": [
    {
     "output_type": "stream",
     "name": "stdout",
     "text": [
      "10 1199\n"
     ]
    }
   ],
   "source": [
    "length = []\n",
    "for x in interpDF:\n",
    "    length.append(len(interpDF[x]))\n",
    "index = min(length)\n",
    "lowIDX,lowValue = [[i,value] for i,value in enumerate(length) if value == index][0]\n",
    "print(lowIDX,lowValue)"
   ]
  },
  {
   "source": [
    "for count,key in enumerate(list(interpDF.keys())):\n",
    "    print(count+1,key,temp[count+1])"
   ],
   "cell_type": "markdown",
   "metadata": {}
  },
  {
   "cell_type": "code",
   "execution_count": 12,
   "metadata": {},
   "outputs": [
    {
     "output_type": "execute_result",
     "data": {
      "text/plain": [
       "               Date_Time  S-01  S-03  S-04  S-05  S-06  S-07  S-08  S-09  \\\n",
       "0    2020-12-22 12:49:00     0     0     0     0    18     0     0     9   \n",
       "1    2020-12-22 12:49:10     0     9     0     0    18     0     0     9   \n",
       "2    2020-12-22 12:49:20     9     9     0     0     9     0     0     9   \n",
       "3    2020-12-22 12:49:30     9    33     0     0     0     0     0     9   \n",
       "4    2020-12-22 12:49:40     0    33     0     9     0     0     0     0   \n",
       "...                  ...   ...   ...   ...   ...   ...   ...   ...   ...   \n",
       "1194 2020-12-22 16:08:00     0     0     0     0     9     0     0     9   \n",
       "1195 2020-12-22 16:08:10     0     0     0    18     0     0     0    21   \n",
       "1196 2020-12-22 16:08:20     4     0     0    18     0     9     0     0   \n",
       "1197 2020-12-22 16:08:30    30     0     0     0     0     9     0     0   \n",
       "1198 2020-12-22 16:08:40    48     0     0     0     0     9     0     0   \n",
       "\n",
       "      S-11  S-12  S-13  S-14  S-15  S-BU1     Average       Variance  \n",
       "0        0     0     0    21     0     78    9.000000     414.000000  \n",
       "1        0     0     9     0     0     78    8.785714     397.882653  \n",
       "2        0   102    18     0     0     49   14.642857     746.515306  \n",
       "3        0    78     9     0     0     21   11.357143     432.229592  \n",
       "4        0     9     0     9     0     10    5.000000      77.285714  \n",
       "...    ...   ...   ...   ...   ...    ...         ...            ...  \n",
       "1194     0     0  1023     0     0      4   74.642857   69193.229592  \n",
       "1195     0     0  1319     9     0      0   97.642857  114794.943878  \n",
       "1196     0    33  1615     0     9      0  120.571429  171877.959184  \n",
       "1197     0    33  1911     0     9      0  142.285714  240759.918367  \n",
       "1198     0     0  3276     9     9     13  240.285714  709040.775510  \n",
       "\n",
       "[1199 rows x 17 columns]"
      ],
      "text/html": "<div>\n<style scoped>\n    .dataframe tbody tr th:only-of-type {\n        vertical-align: middle;\n    }\n\n    .dataframe tbody tr th {\n        vertical-align: top;\n    }\n\n    .dataframe thead th {\n        text-align: right;\n    }\n</style>\n<table border=\"1\" class=\"dataframe\">\n  <thead>\n    <tr style=\"text-align: right;\">\n      <th></th>\n      <th>Date_Time</th>\n      <th>S-01</th>\n      <th>S-03</th>\n      <th>S-04</th>\n      <th>S-05</th>\n      <th>S-06</th>\n      <th>S-07</th>\n      <th>S-08</th>\n      <th>S-09</th>\n      <th>S-11</th>\n      <th>S-12</th>\n      <th>S-13</th>\n      <th>S-14</th>\n      <th>S-15</th>\n      <th>S-BU1</th>\n      <th>Average</th>\n      <th>Variance</th>\n    </tr>\n  </thead>\n  <tbody>\n    <tr>\n      <th>0</th>\n      <td>2020-12-22 12:49:00</td>\n      <td>0</td>\n      <td>0</td>\n      <td>0</td>\n      <td>0</td>\n      <td>18</td>\n      <td>0</td>\n      <td>0</td>\n      <td>9</td>\n      <td>0</td>\n      <td>0</td>\n      <td>0</td>\n      <td>21</td>\n      <td>0</td>\n      <td>78</td>\n      <td>9.000000</td>\n      <td>414.000000</td>\n    </tr>\n    <tr>\n      <th>1</th>\n      <td>2020-12-22 12:49:10</td>\n      <td>0</td>\n      <td>9</td>\n      <td>0</td>\n      <td>0</td>\n      <td>18</td>\n      <td>0</td>\n      <td>0</td>\n      <td>9</td>\n      <td>0</td>\n      <td>0</td>\n      <td>9</td>\n      <td>0</td>\n      <td>0</td>\n      <td>78</td>\n      <td>8.785714</td>\n      <td>397.882653</td>\n    </tr>\n    <tr>\n      <th>2</th>\n      <td>2020-12-22 12:49:20</td>\n      <td>9</td>\n      <td>9</td>\n      <td>0</td>\n      <td>0</td>\n      <td>9</td>\n      <td>0</td>\n      <td>0</td>\n      <td>9</td>\n      <td>0</td>\n      <td>102</td>\n      <td>18</td>\n      <td>0</td>\n      <td>0</td>\n      <td>49</td>\n      <td>14.642857</td>\n      <td>746.515306</td>\n    </tr>\n    <tr>\n      <th>3</th>\n      <td>2020-12-22 12:49:30</td>\n      <td>9</td>\n      <td>33</td>\n      <td>0</td>\n      <td>0</td>\n      <td>0</td>\n      <td>0</td>\n      <td>0</td>\n      <td>9</td>\n      <td>0</td>\n      <td>78</td>\n      <td>9</td>\n      <td>0</td>\n      <td>0</td>\n      <td>21</td>\n      <td>11.357143</td>\n      <td>432.229592</td>\n    </tr>\n    <tr>\n      <th>4</th>\n      <td>2020-12-22 12:49:40</td>\n      <td>0</td>\n      <td>33</td>\n      <td>0</td>\n      <td>9</td>\n      <td>0</td>\n      <td>0</td>\n      <td>0</td>\n      <td>0</td>\n      <td>0</td>\n      <td>9</td>\n      <td>0</td>\n      <td>9</td>\n      <td>0</td>\n      <td>10</td>\n      <td>5.000000</td>\n      <td>77.285714</td>\n    </tr>\n    <tr>\n      <th>...</th>\n      <td>...</td>\n      <td>...</td>\n      <td>...</td>\n      <td>...</td>\n      <td>...</td>\n      <td>...</td>\n      <td>...</td>\n      <td>...</td>\n      <td>...</td>\n      <td>...</td>\n      <td>...</td>\n      <td>...</td>\n      <td>...</td>\n      <td>...</td>\n      <td>...</td>\n      <td>...</td>\n      <td>...</td>\n    </tr>\n    <tr>\n      <th>1194</th>\n      <td>2020-12-22 16:08:00</td>\n      <td>0</td>\n      <td>0</td>\n      <td>0</td>\n      <td>0</td>\n      <td>9</td>\n      <td>0</td>\n      <td>0</td>\n      <td>9</td>\n      <td>0</td>\n      <td>0</td>\n      <td>1023</td>\n      <td>0</td>\n      <td>0</td>\n      <td>4</td>\n      <td>74.642857</td>\n      <td>69193.229592</td>\n    </tr>\n    <tr>\n      <th>1195</th>\n      <td>2020-12-22 16:08:10</td>\n      <td>0</td>\n      <td>0</td>\n      <td>0</td>\n      <td>18</td>\n      <td>0</td>\n      <td>0</td>\n      <td>0</td>\n      <td>21</td>\n      <td>0</td>\n      <td>0</td>\n      <td>1319</td>\n      <td>9</td>\n      <td>0</td>\n      <td>0</td>\n      <td>97.642857</td>\n      <td>114794.943878</td>\n    </tr>\n    <tr>\n      <th>1196</th>\n      <td>2020-12-22 16:08:20</td>\n      <td>4</td>\n      <td>0</td>\n      <td>0</td>\n      <td>18</td>\n      <td>0</td>\n      <td>9</td>\n      <td>0</td>\n      <td>0</td>\n      <td>0</td>\n      <td>33</td>\n      <td>1615</td>\n      <td>0</td>\n      <td>9</td>\n      <td>0</td>\n      <td>120.571429</td>\n      <td>171877.959184</td>\n    </tr>\n    <tr>\n      <th>1197</th>\n      <td>2020-12-22 16:08:30</td>\n      <td>30</td>\n      <td>0</td>\n      <td>0</td>\n      <td>0</td>\n      <td>0</td>\n      <td>9</td>\n      <td>0</td>\n      <td>0</td>\n      <td>0</td>\n      <td>33</td>\n      <td>1911</td>\n      <td>0</td>\n      <td>9</td>\n      <td>0</td>\n      <td>142.285714</td>\n      <td>240759.918367</td>\n    </tr>\n    <tr>\n      <th>1198</th>\n      <td>2020-12-22 16:08:40</td>\n      <td>48</td>\n      <td>0</td>\n      <td>0</td>\n      <td>0</td>\n      <td>0</td>\n      <td>9</td>\n      <td>0</td>\n      <td>0</td>\n      <td>0</td>\n      <td>0</td>\n      <td>3276</td>\n      <td>9</td>\n      <td>9</td>\n      <td>13</td>\n      <td>240.285714</td>\n      <td>709040.775510</td>\n    </tr>\n  </tbody>\n</table>\n<p>1199 rows × 17 columns</p>\n</div>"
     },
     "metadata": {},
     "execution_count": 12
    }
   ],
   "source": [
    "columns = list(interpDF.keys())\n",
    "mergedData = pd.DataFrame({'Date_Time':interpDF[columns[lowIDX]]['Date_Time']})\n",
    "for idx,column in enumerate(columns):\n",
    "    mergedData[column] = interpDF[column][particle]\n",
    "Average = np.mean(mergedData,axis=1)\n",
    "Variance = np.var(mergedData,axis=1)\n",
    "mergedData['Average'] = Average\n",
    "mergedData['Variance'] = Variance\n",
    "mergedData"
   ]
  },
  {
   "source": [
    "### Increase Resolution on mergedData"
   ],
   "cell_type": "markdown",
   "metadata": {}
  },
  {
   "cell_type": "code",
   "execution_count": 13,
   "metadata": {},
   "outputs": [],
   "source": [
    "\n",
    "for i in mergedData:\n",
    "    tempFrame = mergedData.values\n",
    "    tempList = []\n",
    "    for idx,x in enumerate(tempFrame):\n",
    "        try:\n",
    "            increment = (tempFrame[idx+1] - x)/10\n",
    "            for count in range(10):\n",
    "                tempList.append(x+increment*count)\n",
    "        except IndexError:\n",
    "            tempList.append(x)\n",
    "            continue\n",
    "    hiResMergedDF = pd.DataFrame(tempList, columns = mergedData.keys())"
   ]
  },
  {
   "source": [
    "### Export Merged Frames"
   ],
   "cell_type": "markdown",
   "metadata": {}
  },
  {
   "cell_type": "code",
   "execution_count": 14,
   "metadata": {},
   "outputs": [],
   "source": [
    "directory = './mergedData/'\n",
    "if not os.path.exists(directory):\n",
    "\n",
    "    os.makedirs(directory)\n",
    "\n",
    "location = os.path.join(directory+'mergedFrame.csv')\n",
    "hiResMergedDF.to_csv(location,index=False)"
   ]
  },
  {
   "source": [
    "### Create csv files for each animation\n",
    "We have 3 expirements in each that we want to average across the range"
   ],
   "cell_type": "markdown",
   "metadata": {}
  },
  {
   "cell_type": "code",
   "execution_count": 15,
   "metadata": {},
   "outputs": [],
   "source": [
    "# mergedData = pd.read_csv('./mergedData/mergedFrame.csv',parse_dates=[0])"
   ]
  },
  {
   "cell_type": "code",
   "execution_count": 16,
   "metadata": {},
   "outputs": [
    {
     "output_type": "execute_result",
     "data": {
      "text/plain": [
       "               Date_Time  S-01  S-03  S-04  S-05  S-06  S-07  S-08  S-09  \\\n",
       "0    2020-12-22 12:49:00     0     0     0     0    18     0     0     9   \n",
       "1    2020-12-22 12:49:10     0     9     0     0    18     0     0     9   \n",
       "2    2020-12-22 12:49:20     9     9     0     0     9     0     0     9   \n",
       "3    2020-12-22 12:49:30     9    33     0     0     0     0     0     9   \n",
       "4    2020-12-22 12:49:40     0    33     0     9     0     0     0     0   \n",
       "...                  ...   ...   ...   ...   ...   ...   ...   ...   ...   \n",
       "1194 2020-12-22 16:08:00     0     0     0     0     9     0     0     9   \n",
       "1195 2020-12-22 16:08:10     0     0     0    18     0     0     0    21   \n",
       "1196 2020-12-22 16:08:20     4     0     0    18     0     9     0     0   \n",
       "1197 2020-12-22 16:08:30    30     0     0     0     0     9     0     0   \n",
       "1198 2020-12-22 16:08:40    48     0     0     0     0     9     0     0   \n",
       "\n",
       "      S-11  S-12  S-13  S-14  S-15  S-BU1     Average       Variance  \n",
       "0        0     0     0    21     0     78    9.000000     414.000000  \n",
       "1        0     0     9     0     0     78    8.785714     397.882653  \n",
       "2        0   102    18     0     0     49   14.642857     746.515306  \n",
       "3        0    78     9     0     0     21   11.357143     432.229592  \n",
       "4        0     9     0     9     0     10    5.000000      77.285714  \n",
       "...    ...   ...   ...   ...   ...    ...         ...            ...  \n",
       "1194     0     0  1023     0     0      4   74.642857   69193.229592  \n",
       "1195     0     0  1319     9     0      0   97.642857  114794.943878  \n",
       "1196     0    33  1615     0     9      0  120.571429  171877.959184  \n",
       "1197     0    33  1911     0     9      0  142.285714  240759.918367  \n",
       "1198     0     0  3276     9     9     13  240.285714  709040.775510  \n",
       "\n",
       "[1199 rows x 17 columns]"
      ],
      "text/html": "<div>\n<style scoped>\n    .dataframe tbody tr th:only-of-type {\n        vertical-align: middle;\n    }\n\n    .dataframe tbody tr th {\n        vertical-align: top;\n    }\n\n    .dataframe thead th {\n        text-align: right;\n    }\n</style>\n<table border=\"1\" class=\"dataframe\">\n  <thead>\n    <tr style=\"text-align: right;\">\n      <th></th>\n      <th>Date_Time</th>\n      <th>S-01</th>\n      <th>S-03</th>\n      <th>S-04</th>\n      <th>S-05</th>\n      <th>S-06</th>\n      <th>S-07</th>\n      <th>S-08</th>\n      <th>S-09</th>\n      <th>S-11</th>\n      <th>S-12</th>\n      <th>S-13</th>\n      <th>S-14</th>\n      <th>S-15</th>\n      <th>S-BU1</th>\n      <th>Average</th>\n      <th>Variance</th>\n    </tr>\n  </thead>\n  <tbody>\n    <tr>\n      <th>0</th>\n      <td>2020-12-22 12:49:00</td>\n      <td>0</td>\n      <td>0</td>\n      <td>0</td>\n      <td>0</td>\n      <td>18</td>\n      <td>0</td>\n      <td>0</td>\n      <td>9</td>\n      <td>0</td>\n      <td>0</td>\n      <td>0</td>\n      <td>21</td>\n      <td>0</td>\n      <td>78</td>\n      <td>9.000000</td>\n      <td>414.000000</td>\n    </tr>\n    <tr>\n      <th>1</th>\n      <td>2020-12-22 12:49:10</td>\n      <td>0</td>\n      <td>9</td>\n      <td>0</td>\n      <td>0</td>\n      <td>18</td>\n      <td>0</td>\n      <td>0</td>\n      <td>9</td>\n      <td>0</td>\n      <td>0</td>\n      <td>9</td>\n      <td>0</td>\n      <td>0</td>\n      <td>78</td>\n      <td>8.785714</td>\n      <td>397.882653</td>\n    </tr>\n    <tr>\n      <th>2</th>\n      <td>2020-12-22 12:49:20</td>\n      <td>9</td>\n      <td>9</td>\n      <td>0</td>\n      <td>0</td>\n      <td>9</td>\n      <td>0</td>\n      <td>0</td>\n      <td>9</td>\n      <td>0</td>\n      <td>102</td>\n      <td>18</td>\n      <td>0</td>\n      <td>0</td>\n      <td>49</td>\n      <td>14.642857</td>\n      <td>746.515306</td>\n    </tr>\n    <tr>\n      <th>3</th>\n      <td>2020-12-22 12:49:30</td>\n      <td>9</td>\n      <td>33</td>\n      <td>0</td>\n      <td>0</td>\n      <td>0</td>\n      <td>0</td>\n      <td>0</td>\n      <td>9</td>\n      <td>0</td>\n      <td>78</td>\n      <td>9</td>\n      <td>0</td>\n      <td>0</td>\n      <td>21</td>\n      <td>11.357143</td>\n      <td>432.229592</td>\n    </tr>\n    <tr>\n      <th>4</th>\n      <td>2020-12-22 12:49:40</td>\n      <td>0</td>\n      <td>33</td>\n      <td>0</td>\n      <td>9</td>\n      <td>0</td>\n      <td>0</td>\n      <td>0</td>\n      <td>0</td>\n      <td>0</td>\n      <td>9</td>\n      <td>0</td>\n      <td>9</td>\n      <td>0</td>\n      <td>10</td>\n      <td>5.000000</td>\n      <td>77.285714</td>\n    </tr>\n    <tr>\n      <th>...</th>\n      <td>...</td>\n      <td>...</td>\n      <td>...</td>\n      <td>...</td>\n      <td>...</td>\n      <td>...</td>\n      <td>...</td>\n      <td>...</td>\n      <td>...</td>\n      <td>...</td>\n      <td>...</td>\n      <td>...</td>\n      <td>...</td>\n      <td>...</td>\n      <td>...</td>\n      <td>...</td>\n      <td>...</td>\n    </tr>\n    <tr>\n      <th>1194</th>\n      <td>2020-12-22 16:08:00</td>\n      <td>0</td>\n      <td>0</td>\n      <td>0</td>\n      <td>0</td>\n      <td>9</td>\n      <td>0</td>\n      <td>0</td>\n      <td>9</td>\n      <td>0</td>\n      <td>0</td>\n      <td>1023</td>\n      <td>0</td>\n      <td>0</td>\n      <td>4</td>\n      <td>74.642857</td>\n      <td>69193.229592</td>\n    </tr>\n    <tr>\n      <th>1195</th>\n      <td>2020-12-22 16:08:10</td>\n      <td>0</td>\n      <td>0</td>\n      <td>0</td>\n      <td>18</td>\n      <td>0</td>\n      <td>0</td>\n      <td>0</td>\n      <td>21</td>\n      <td>0</td>\n      <td>0</td>\n      <td>1319</td>\n      <td>9</td>\n      <td>0</td>\n      <td>0</td>\n      <td>97.642857</td>\n      <td>114794.943878</td>\n    </tr>\n    <tr>\n      <th>1196</th>\n      <td>2020-12-22 16:08:20</td>\n      <td>4</td>\n      <td>0</td>\n      <td>0</td>\n      <td>18</td>\n      <td>0</td>\n      <td>9</td>\n      <td>0</td>\n      <td>0</td>\n      <td>0</td>\n      <td>33</td>\n      <td>1615</td>\n      <td>0</td>\n      <td>9</td>\n      <td>0</td>\n      <td>120.571429</td>\n      <td>171877.959184</td>\n    </tr>\n    <tr>\n      <th>1197</th>\n      <td>2020-12-22 16:08:30</td>\n      <td>30</td>\n      <td>0</td>\n      <td>0</td>\n      <td>0</td>\n      <td>0</td>\n      <td>9</td>\n      <td>0</td>\n      <td>0</td>\n      <td>0</td>\n      <td>33</td>\n      <td>1911</td>\n      <td>0</td>\n      <td>9</td>\n      <td>0</td>\n      <td>142.285714</td>\n      <td>240759.918367</td>\n    </tr>\n    <tr>\n      <th>1198</th>\n      <td>2020-12-22 16:08:40</td>\n      <td>48</td>\n      <td>0</td>\n      <td>0</td>\n      <td>0</td>\n      <td>0</td>\n      <td>9</td>\n      <td>0</td>\n      <td>0</td>\n      <td>0</td>\n      <td>0</td>\n      <td>3276</td>\n      <td>9</td>\n      <td>9</td>\n      <td>13</td>\n      <td>240.285714</td>\n      <td>709040.775510</td>\n    </tr>\n  </tbody>\n</table>\n<p>1199 rows × 17 columns</p>\n</div>"
     },
     "metadata": {},
     "execution_count": 16
    }
   ],
   "source": [
    "mergedData"
   ]
  },
  {
   "cell_type": "code",
   "execution_count": 17,
   "metadata": {
    "tags": []
   },
   "outputs": [],
   "source": [
    "time = mergedData['Date_Time']\n",
    "expIndexes = {}\n",
    "for i in expTRange:\n",
    "    expIndexes[i] = []\n",
    "    for x in expTRange[i]:\n",
    "        for start,n in enumerate(time):\n",
    "           if n >= x:\n",
    "               expIndexes[i].append(start)\n",
    "               break"
   ]
  },
  {
   "source": [
    "## Determining Zones\n",
    "Here we first create 'averagedFrame's. These are dictionaries that at each 'label' (which corresponds to the name of an expirement) we have a pandas dataframe containing the results of all of the trails in an expirement summed, and then divided by the total number of trails.\n",
    "Anytime you are adjusting the Zones, everything below here must be run. The values of many of these DataFrames are mutated"
   ],
   "cell_type": "markdown",
   "metadata": {}
  },
  {
   "cell_type": "code",
   "execution_count": 18,
   "metadata": {},
   "outputs": [
    {
     "output_type": "execute_result",
     "data": {
      "text/plain": [
       "{'OR7 Unblocked': [114, 165, 272],\n",
       " 'OR7 Blocked': [333, 384, 420],\n",
       " 'OR16 Unblocked': [654, 690, 726],\n",
       " 'OR16 Blocked 1': [777, 818, 852],\n",
       " 'OR16 Blocked 2': [891, 924, 966]}"
      ]
     },
     "metadata": {},
     "execution_count": 18
    }
   ],
   "source": [
    "expIndexes"
   ]
  },
  {
   "cell_type": "code",
   "execution_count": 19,
   "metadata": {},
   "outputs": [],
   "source": [
    "# preCursorFactor is defined at the start\n",
    "averagedFrame = {}\n",
    "expirementFrame = {}\n",
    "\n",
    "for label in expIndexes:\n",
    "    runSumFrames = expIndexes[label][0]-expIndexes[label][0]\n",
    "    for idx,time in enumerate(expIndexes[label]):\n",
    "        start = expIndexes[label][idx] - preCursorFactor\n",
    "        end = expIndexes[label][idx] + expTLen[label]\n",
    "        expirementFrame[label+' Exp '+str(idx+1)] = mergedData.iloc[ start : end , 1: ].reset_index(drop = True)\n",
    "        runSumFrames += expirementFrame[label+' Exp '+str(idx+1)]\n",
    "        \n",
    "    averagedFrame[label] = runSumFrames/(idx+1)"
   ]
  },
  {
   "source": [
    "Calculating the correct Zones for each expirement"
   ],
   "cell_type": "markdown",
   "metadata": {}
  },
  {
   "cell_type": "code",
   "execution_count": 20,
   "metadata": {},
   "outputs": [],
   "source": [
    "if ZoneAutomation:\n",
    "    # numberOfZones is defined at the start\n",
    "    ZoneAssignments = {}\n",
    "    for frame in averagedFrame:\n",
    "        # at this point averagedFrame should just be the averaged sum of the expirementFrame trails. Last two columns are overall average and varaince so they should be ignored.\n",
    "        avgFrm = averagedFrame[frame]\n",
    "        # outdoorSensors must have its spelling exactly match\n",
    "        columns = list(set(avgFrm.keys()[:-2])- set(outdoorSensors))\n",
    "        columns.sort()\n",
    "\n",
    "        X = {}\n",
    "        for column in columns:\n",
    "            value,index = max([(value,index) for index,value in enumerate(avgFrm[column])]) \n",
    "            X[column] = np.array([np.log(value),index])\n",
    "        X = [X[i] for i in X]\n",
    "        kmeans = KMeans(n_clusters=numberOfZones,random_state=0).fit(X)\n",
    "        ZoneAssignments[frame] = kmeans.labels_\n",
    "    z = numberOfZones\n",
    "    ZDf = pd.DataFrame(ZoneAssignments)\n",
    "    ZDf = ZDf.append(pd.DataFrame([[z]*len(outdoorSensors)]*len(expIndexes),columns = ZoneAssignments.keys()),ignore_index=True)\n",
    "    ZoneAssignments = ZDf"
   ]
  },
  {
   "cell_type": "code",
   "execution_count": 21,
   "metadata": {},
   "outputs": [],
   "source": [
    "if not ZoneAutomation:\n",
    "    ZoneAssignments = {}\n",
    "    for frame in averagedFrame:\n",
    "        # at this point averagedFrame should just be the averaged sum of the expirementFrame trails. Last two columns are overall average and varaince so they should be ignored.\n",
    "        avgFrm = averagedFrame[frame]\n",
    "        # outdoorSensors must have its spelling exactly match\n",
    "        columns = list(set(avgFrm.keys()[:-2]))\n",
    "        columns.sort()\n",
    "        ZoneAssignments[frame] = [0]*len(columns)\n",
    "        for value,zone in enumerate(zoneList):\n",
    "            for sensor in zoneList[zone]:\n",
    "                ZoneAssignments[frame][columns.index(sensor)] = value\n",
    "    ZDf = pd.DataFrame(ZoneAssignments)"
   ]
  },
  {
   "cell_type": "code",
   "execution_count": 22,
   "metadata": {},
   "outputs": [
    {
     "output_type": "execute_result",
     "data": {
      "text/plain": [
       "{'Zone 1': ['S-13', 'S-14'],\n",
       " 'Zone 2': ['S-09', 'S-11', 'S-12'],\n",
       " 'Zone 3': ['S-01', 'S-03', 'S-04', 'S-05', 'S-06', 'S-07', 'S-08', 'S-15'],\n",
       " 'Zone 4': ['S-BU1']}"
      ]
     },
     "metadata": {},
     "execution_count": 22
    }
   ],
   "source": [
    "zoneList"
   ]
  },
  {
   "cell_type": "code",
   "execution_count": 23,
   "metadata": {},
   "outputs": [],
   "source": [
    "directory = './dataInfo'\n",
    "if not os.path.exists(directory):\n",
    "    os.makedirs(directory)\n",
    "location = os.path.join(directory,'ZoneAssignments.csv')\n",
    "ZDf.to_csv(location,index=False)"
   ]
  },
  {
   "source": [
    "Zoning the expirement data."
   ],
   "cell_type": "markdown",
   "metadata": {}
  },
  {
   "cell_type": "code",
   "execution_count": 24,
   "metadata": {},
   "outputs": [
    {
     "output_type": "execute_result",
     "data": {
      "text/plain": [
       "         S-01       S-03       S-04        S-05       S-06       S-07  S-08  \\\n",
       "0    3.000000  20.000000  46.000000    3.000000   3.000000   3.000000   0.0   \n",
       "1    3.000000   3.000000  18.000000    1.333333   4.333333   1.333333   0.0   \n",
       "2    4.666667   0.000000  64.333333    0.000000  10.000000   6.000000   0.0   \n",
       "3   10.000000   0.000000  60.000000    0.000000   0.000000   9.000000   0.0   \n",
       "4    6.000000   0.000000  60.000000    0.000000   0.000000  12.000000   0.0   \n",
       "5    6.000000   0.000000  30.000000    0.000000   3.000000   9.000000   0.0   \n",
       "6    0.000000   3.000000   3.000000    0.000000   9.000000   9.000000   0.0   \n",
       "7    0.000000   3.000000   3.000000    0.000000   6.000000   4.333333   0.0   \n",
       "8    1.333333   0.000000   0.000000    0.000000   0.000000   0.000000   0.0   \n",
       "9    0.000000   0.000000  25.000000    0.000000   0.000000   0.000000   0.0   \n",
       "10   0.000000   0.000000  25.000000   24.333333  24.333333   3.000000   0.0   \n",
       "11   0.000000   0.000000  12.333333  124.000000  59.000000   6.000000   0.0   \n",
       "12   3.000000   3.000000   3.000000  209.333333  21.000000  21.000000   0.0   \n",
       "13   6.000000   0.000000   0.000000  308.000000  18.000000  53.666667   0.0   \n",
       "14  16.333333   6.000000   9.000000  269.000000  29.000000  53.000000   0.0   \n",
       "15  26.000000   9.000000  18.000000  196.000000  29.000000  52.000000   0.0   \n",
       "16  22.000000   7.333333  15.000000  195.666667  34.666667  75.333333   0.0   \n",
       "17  19.333333  10.000000  21.333333  247.000000  46.000000  88.000000   0.0   \n",
       "18  30.000000   7.000000  31.000000  229.333333  31.000000  54.000000   0.0   \n",
       "19  13.000000  20.000000  34.000000  107.000000  28.333333  43.333333   0.0   \n",
       "20  12.333333  15.000000  51.000000   85.000000  75.000000  42.000000   0.0   \n",
       "21  24.000000  15.000000  74.000000   88.000000  75.000000  15.000000   0.0   \n",
       "22  15.000000  10.333333  52.000000   77.333333  37.333333   3.000000   0.0   \n",
       "23   9.000000   6.000000  27.333333   34.000000   9.000000   0.000000   0.0   \n",
       "24  12.000000   0.000000  33.000000   28.000000  48.000000   0.000000   0.0   \n",
       "25  33.000000   3.000000  48.000000   27.000000  69.333333   1.333333   0.0   \n",
       "26  30.000000   3.000000  27.000000   27.000000   0.000000  18.000000   0.0   \n",
       "27  12.000000   3.000000   6.000000   18.000000   0.000000  21.000000   0.0   \n",
       "28   3.000000   4.333333   6.000000   16.333333   5.666667  10.333333   0.0   \n",
       "29   4.333333  28.000000   7.333333    9.000000   3.000000  41.000000   0.0   \n",
       "30  13.000000  39.000000  15.000000    6.000000  10.000000   9.000000   0.0   \n",
       "31  27.000000  31.333333   6.000000    3.000000  12.333333   4.333333   0.0   \n",
       "32   5.000000   3.000000   4.333333    0.000000   0.000000   3.000000   0.0   \n",
       "33  10.000000   0.000000  18.000000    6.000000   3.000000   3.000000   0.0   \n",
       "34  10.000000   0.000000  18.000000   15.000000   7.333333  12.000000   0.0   \n",
       "35   1.333333   0.000000  61.333333    7.333333   3.000000   6.000000   0.0   \n",
       "\n",
       "     S-09        S-11    S-12          S-13         S-14       S-15  \\\n",
       "0     0.0    6.000000     0.0     56.000000    16.000000   6.000000   \n",
       "1     3.0    3.000000     3.0     23.000000    29.000000  24.000000   \n",
       "2     3.0   15.000000    14.0      0.000000    26.000000  17.000000   \n",
       "3     0.0   15.000000    20.0     16.000000     6.000000   6.000000   \n",
       "4     3.0    3.000000     0.0      0.000000     6.000000   0.000000   \n",
       "5     6.0    6.000000     0.0      0.000000     0.000000   3.000000   \n",
       "6     9.0    6.000000     0.0    412.000000  1839.000000   3.000000   \n",
       "7     3.0    3.000000     3.0   3336.666667  6637.000000   0.000000   \n",
       "8    14.0    0.000000   108.0  22511.000000  5226.000000  52.000000   \n",
       "9    60.0    0.000000   421.0  40567.000000  3472.000000  22.000000   \n",
       "10    0.0    3.000000  1632.0  18727.666667  3910.000000  15.000000   \n",
       "11  114.0   49.333333  6655.0   8643.666667  3492.000000   3.000000   \n",
       "12  210.0  111.000000  3442.0   7173.333333  2549.000000   3.000000   \n",
       "13  128.0  164.000000  2591.0  21764.000000  2287.000000  32.333333   \n",
       "14  190.0  250.000000  2064.0   4509.000000  2087.000000  66.000000   \n",
       "15  199.0  252.000000  1565.0   1774.000000  1883.000000  21.000000   \n",
       "16  202.0  251.000000  1169.0   1409.000000   784.000000  14.000000   \n",
       "17   80.0  271.000000   488.0    830.000000   433.000000  60.000000   \n",
       "18  107.0  191.000000   447.0    581.000000   360.000000  35.000000   \n",
       "19   88.0  163.000000   290.0    456.000000   309.000000  28.333333   \n",
       "20   57.0  154.000000   132.0    284.000000   305.000000  36.666667   \n",
       "21   30.0  161.000000   129.0    158.000000   253.000000  60.000000   \n",
       "22   53.0  108.000000   145.0     97.000000   181.000000  61.000000   \n",
       "23  101.0   83.000000    63.0     68.000000   113.000000  27.000000   \n",
       "24   71.0   44.000000    51.0     92.000000   196.000000  47.000000   \n",
       "25   79.0   73.000000    27.0     69.000000   130.000000  71.000000   \n",
       "26   49.0   50.000000    23.0     37.000000    57.000000  40.000000   \n",
       "27   22.0   35.000000    20.0     38.000000    59.000000  88.000000   \n",
       "28   26.0   13.000000    26.0     25.000000    53.000000  85.000000   \n",
       "29   17.0    6.000000    35.0     46.000000    58.000000  25.000000   \n",
       "30    0.0   12.000000    83.0     48.000000    72.000000  28.000000   \n",
       "31    7.0    6.000000    72.0     31.000000    35.333333  18.000000   \n",
       "32   13.0   12.000000    32.0     37.000000    24.000000  14.000000   \n",
       "33    9.0    6.000000    36.0     56.000000    24.000000   6.000000   \n",
       "34   13.0   14.333333    23.0     56.000000    74.000000  24.000000   \n",
       "35   14.0   58.000000    18.0     25.000000    40.000000  11.000000   \n",
       "\n",
       "        S-BU1      Average      Variance  \n",
       "0    1.333333    11.666667  4.688741e+02  \n",
       "1    1.333333     8.380952  3.009830e+02  \n",
       "2    3.000000    11.642857  8.136582e+02  \n",
       "3    1.333333    10.238095  7.861395e+02  \n",
       "4    0.000000     6.428571  7.259694e+02  \n",
       "5    1.333333     4.595238  1.827262e+02  \n",
       "6    4.333333   164.095238  7.038099e+05  \n",
       "7    5.666667   714.619048  1.045424e+07  \n",
       "8    4.333333  1994.047619  3.963667e+07  \n",
       "9    3.000000  3183.571429  1.402047e+08  \n",
       "10   3.000000  1740.523810  2.659185e+07  \n",
       "11   1.333333  1368.547619  1.080113e+07  \n",
       "12   1.333333   982.142857  5.949632e+06  \n",
       "13   3.000000  1953.928571  4.300108e+07  \n",
       "14   1.333333   682.119048  2.276594e+06  \n",
       "15   1.333333   430.380952  6.588383e+05  \n",
       "16   4.333333   298.809524  2.655555e+05  \n",
       "17   4.333333   185.571429  7.039714e+04  \n",
       "18   1.333333   150.333333  4.674334e+04  \n",
       "19   2.666667   113.047619  2.784486e+04  \n",
       "20   6.000000    89.642857  1.265995e+04  \n",
       "21   2.666667    77.476190  8.019952e+03  \n",
       "22   3.333333    60.238095  5.034473e+03  \n",
       "23   7.000000    39.095238  1.927946e+03  \n",
       "24   3.333333    44.666667  6.427099e+03  \n",
       "25   0.000000    45.047619  2.972575e+03  \n",
       "26   3.333333    26.023810  8.378384e+02  \n",
       "27   7.000000    23.500000  9.339337e+02  \n",
       "28   3.333333    19.785714  8.624303e+02  \n",
       "29   0.000000    19.976190  6.898452e+02  \n",
       "30   0.000000    23.928571  1.417179e+03  \n",
       "31   0.000000    18.095238  7.983163e+02  \n",
       "32   0.000000    10.523810  2.763639e+02  \n",
       "33  13.000000    13.571429  5.721735e+02  \n",
       "34  27.333333    21.000000  8.356429e+02  \n",
       "35  16.000000    18.642857  1.167124e+03  "
      ],
      "text/html": "<div>\n<style scoped>\n    .dataframe tbody tr th:only-of-type {\n        vertical-align: middle;\n    }\n\n    .dataframe tbody tr th {\n        vertical-align: top;\n    }\n\n    .dataframe thead th {\n        text-align: right;\n    }\n</style>\n<table border=\"1\" class=\"dataframe\">\n  <thead>\n    <tr style=\"text-align: right;\">\n      <th></th>\n      <th>S-01</th>\n      <th>S-03</th>\n      <th>S-04</th>\n      <th>S-05</th>\n      <th>S-06</th>\n      <th>S-07</th>\n      <th>S-08</th>\n      <th>S-09</th>\n      <th>S-11</th>\n      <th>S-12</th>\n      <th>S-13</th>\n      <th>S-14</th>\n      <th>S-15</th>\n      <th>S-BU1</th>\n      <th>Average</th>\n      <th>Variance</th>\n    </tr>\n  </thead>\n  <tbody>\n    <tr>\n      <th>0</th>\n      <td>3.000000</td>\n      <td>20.000000</td>\n      <td>46.000000</td>\n      <td>3.000000</td>\n      <td>3.000000</td>\n      <td>3.000000</td>\n      <td>0.0</td>\n      <td>0.0</td>\n      <td>6.000000</td>\n      <td>0.0</td>\n      <td>56.000000</td>\n      <td>16.000000</td>\n      <td>6.000000</td>\n      <td>1.333333</td>\n      <td>11.666667</td>\n      <td>4.688741e+02</td>\n    </tr>\n    <tr>\n      <th>1</th>\n      <td>3.000000</td>\n      <td>3.000000</td>\n      <td>18.000000</td>\n      <td>1.333333</td>\n      <td>4.333333</td>\n      <td>1.333333</td>\n      <td>0.0</td>\n      <td>3.0</td>\n      <td>3.000000</td>\n      <td>3.0</td>\n      <td>23.000000</td>\n      <td>29.000000</td>\n      <td>24.000000</td>\n      <td>1.333333</td>\n      <td>8.380952</td>\n      <td>3.009830e+02</td>\n    </tr>\n    <tr>\n      <th>2</th>\n      <td>4.666667</td>\n      <td>0.000000</td>\n      <td>64.333333</td>\n      <td>0.000000</td>\n      <td>10.000000</td>\n      <td>6.000000</td>\n      <td>0.0</td>\n      <td>3.0</td>\n      <td>15.000000</td>\n      <td>14.0</td>\n      <td>0.000000</td>\n      <td>26.000000</td>\n      <td>17.000000</td>\n      <td>3.000000</td>\n      <td>11.642857</td>\n      <td>8.136582e+02</td>\n    </tr>\n    <tr>\n      <th>3</th>\n      <td>10.000000</td>\n      <td>0.000000</td>\n      <td>60.000000</td>\n      <td>0.000000</td>\n      <td>0.000000</td>\n      <td>9.000000</td>\n      <td>0.0</td>\n      <td>0.0</td>\n      <td>15.000000</td>\n      <td>20.0</td>\n      <td>16.000000</td>\n      <td>6.000000</td>\n      <td>6.000000</td>\n      <td>1.333333</td>\n      <td>10.238095</td>\n      <td>7.861395e+02</td>\n    </tr>\n    <tr>\n      <th>4</th>\n      <td>6.000000</td>\n      <td>0.000000</td>\n      <td>60.000000</td>\n      <td>0.000000</td>\n      <td>0.000000</td>\n      <td>12.000000</td>\n      <td>0.0</td>\n      <td>3.0</td>\n      <td>3.000000</td>\n      <td>0.0</td>\n      <td>0.000000</td>\n      <td>6.000000</td>\n      <td>0.000000</td>\n      <td>0.000000</td>\n      <td>6.428571</td>\n      <td>7.259694e+02</td>\n    </tr>\n    <tr>\n      <th>5</th>\n      <td>6.000000</td>\n      <td>0.000000</td>\n      <td>30.000000</td>\n      <td>0.000000</td>\n      <td>3.000000</td>\n      <td>9.000000</td>\n      <td>0.0</td>\n      <td>6.0</td>\n      <td>6.000000</td>\n      <td>0.0</td>\n      <td>0.000000</td>\n      <td>0.000000</td>\n      <td>3.000000</td>\n      <td>1.333333</td>\n      <td>4.595238</td>\n      <td>1.827262e+02</td>\n    </tr>\n    <tr>\n      <th>6</th>\n      <td>0.000000</td>\n      <td>3.000000</td>\n      <td>3.000000</td>\n      <td>0.000000</td>\n      <td>9.000000</td>\n      <td>9.000000</td>\n      <td>0.0</td>\n      <td>9.0</td>\n      <td>6.000000</td>\n      <td>0.0</td>\n      <td>412.000000</td>\n      <td>1839.000000</td>\n      <td>3.000000</td>\n      <td>4.333333</td>\n      <td>164.095238</td>\n      <td>7.038099e+05</td>\n    </tr>\n    <tr>\n      <th>7</th>\n      <td>0.000000</td>\n      <td>3.000000</td>\n      <td>3.000000</td>\n      <td>0.000000</td>\n      <td>6.000000</td>\n      <td>4.333333</td>\n      <td>0.0</td>\n      <td>3.0</td>\n      <td>3.000000</td>\n      <td>3.0</td>\n      <td>3336.666667</td>\n      <td>6637.000000</td>\n      <td>0.000000</td>\n      <td>5.666667</td>\n      <td>714.619048</td>\n      <td>1.045424e+07</td>\n    </tr>\n    <tr>\n      <th>8</th>\n      <td>1.333333</td>\n      <td>0.000000</td>\n      <td>0.000000</td>\n      <td>0.000000</td>\n      <td>0.000000</td>\n      <td>0.000000</td>\n      <td>0.0</td>\n      <td>14.0</td>\n      <td>0.000000</td>\n      <td>108.0</td>\n      <td>22511.000000</td>\n      <td>5226.000000</td>\n      <td>52.000000</td>\n      <td>4.333333</td>\n      <td>1994.047619</td>\n      <td>3.963667e+07</td>\n    </tr>\n    <tr>\n      <th>9</th>\n      <td>0.000000</td>\n      <td>0.000000</td>\n      <td>25.000000</td>\n      <td>0.000000</td>\n      <td>0.000000</td>\n      <td>0.000000</td>\n      <td>0.0</td>\n      <td>60.0</td>\n      <td>0.000000</td>\n      <td>421.0</td>\n      <td>40567.000000</td>\n      <td>3472.000000</td>\n      <td>22.000000</td>\n      <td>3.000000</td>\n      <td>3183.571429</td>\n      <td>1.402047e+08</td>\n    </tr>\n    <tr>\n      <th>10</th>\n      <td>0.000000</td>\n      <td>0.000000</td>\n      <td>25.000000</td>\n      <td>24.333333</td>\n      <td>24.333333</td>\n      <td>3.000000</td>\n      <td>0.0</td>\n      <td>0.0</td>\n      <td>3.000000</td>\n      <td>1632.0</td>\n      <td>18727.666667</td>\n      <td>3910.000000</td>\n      <td>15.000000</td>\n      <td>3.000000</td>\n      <td>1740.523810</td>\n      <td>2.659185e+07</td>\n    </tr>\n    <tr>\n      <th>11</th>\n      <td>0.000000</td>\n      <td>0.000000</td>\n      <td>12.333333</td>\n      <td>124.000000</td>\n      <td>59.000000</td>\n      <td>6.000000</td>\n      <td>0.0</td>\n      <td>114.0</td>\n      <td>49.333333</td>\n      <td>6655.0</td>\n      <td>8643.666667</td>\n      <td>3492.000000</td>\n      <td>3.000000</td>\n      <td>1.333333</td>\n      <td>1368.547619</td>\n      <td>1.080113e+07</td>\n    </tr>\n    <tr>\n      <th>12</th>\n      <td>3.000000</td>\n      <td>3.000000</td>\n      <td>3.000000</td>\n      <td>209.333333</td>\n      <td>21.000000</td>\n      <td>21.000000</td>\n      <td>0.0</td>\n      <td>210.0</td>\n      <td>111.000000</td>\n      <td>3442.0</td>\n      <td>7173.333333</td>\n      <td>2549.000000</td>\n      <td>3.000000</td>\n      <td>1.333333</td>\n      <td>982.142857</td>\n      <td>5.949632e+06</td>\n    </tr>\n    <tr>\n      <th>13</th>\n      <td>6.000000</td>\n      <td>0.000000</td>\n      <td>0.000000</td>\n      <td>308.000000</td>\n      <td>18.000000</td>\n      <td>53.666667</td>\n      <td>0.0</td>\n      <td>128.0</td>\n      <td>164.000000</td>\n      <td>2591.0</td>\n      <td>21764.000000</td>\n      <td>2287.000000</td>\n      <td>32.333333</td>\n      <td>3.000000</td>\n      <td>1953.928571</td>\n      <td>4.300108e+07</td>\n    </tr>\n    <tr>\n      <th>14</th>\n      <td>16.333333</td>\n      <td>6.000000</td>\n      <td>9.000000</td>\n      <td>269.000000</td>\n      <td>29.000000</td>\n      <td>53.000000</td>\n      <td>0.0</td>\n      <td>190.0</td>\n      <td>250.000000</td>\n      <td>2064.0</td>\n      <td>4509.000000</td>\n      <td>2087.000000</td>\n      <td>66.000000</td>\n      <td>1.333333</td>\n      <td>682.119048</td>\n      <td>2.276594e+06</td>\n    </tr>\n    <tr>\n      <th>15</th>\n      <td>26.000000</td>\n      <td>9.000000</td>\n      <td>18.000000</td>\n      <td>196.000000</td>\n      <td>29.000000</td>\n      <td>52.000000</td>\n      <td>0.0</td>\n      <td>199.0</td>\n      <td>252.000000</td>\n      <td>1565.0</td>\n      <td>1774.000000</td>\n      <td>1883.000000</td>\n      <td>21.000000</td>\n      <td>1.333333</td>\n      <td>430.380952</td>\n      <td>6.588383e+05</td>\n    </tr>\n    <tr>\n      <th>16</th>\n      <td>22.000000</td>\n      <td>7.333333</td>\n      <td>15.000000</td>\n      <td>195.666667</td>\n      <td>34.666667</td>\n      <td>75.333333</td>\n      <td>0.0</td>\n      <td>202.0</td>\n      <td>251.000000</td>\n      <td>1169.0</td>\n      <td>1409.000000</td>\n      <td>784.000000</td>\n      <td>14.000000</td>\n      <td>4.333333</td>\n      <td>298.809524</td>\n      <td>2.655555e+05</td>\n    </tr>\n    <tr>\n      <th>17</th>\n      <td>19.333333</td>\n      <td>10.000000</td>\n      <td>21.333333</td>\n      <td>247.000000</td>\n      <td>46.000000</td>\n      <td>88.000000</td>\n      <td>0.0</td>\n      <td>80.0</td>\n      <td>271.000000</td>\n      <td>488.0</td>\n      <td>830.000000</td>\n      <td>433.000000</td>\n      <td>60.000000</td>\n      <td>4.333333</td>\n      <td>185.571429</td>\n      <td>7.039714e+04</td>\n    </tr>\n    <tr>\n      <th>18</th>\n      <td>30.000000</td>\n      <td>7.000000</td>\n      <td>31.000000</td>\n      <td>229.333333</td>\n      <td>31.000000</td>\n      <td>54.000000</td>\n      <td>0.0</td>\n      <td>107.0</td>\n      <td>191.000000</td>\n      <td>447.0</td>\n      <td>581.000000</td>\n      <td>360.000000</td>\n      <td>35.000000</td>\n      <td>1.333333</td>\n      <td>150.333333</td>\n      <td>4.674334e+04</td>\n    </tr>\n    <tr>\n      <th>19</th>\n      <td>13.000000</td>\n      <td>20.000000</td>\n      <td>34.000000</td>\n      <td>107.000000</td>\n      <td>28.333333</td>\n      <td>43.333333</td>\n      <td>0.0</td>\n      <td>88.0</td>\n      <td>163.000000</td>\n      <td>290.0</td>\n      <td>456.000000</td>\n      <td>309.000000</td>\n      <td>28.333333</td>\n      <td>2.666667</td>\n      <td>113.047619</td>\n      <td>2.784486e+04</td>\n    </tr>\n    <tr>\n      <th>20</th>\n      <td>12.333333</td>\n      <td>15.000000</td>\n      <td>51.000000</td>\n      <td>85.000000</td>\n      <td>75.000000</td>\n      <td>42.000000</td>\n      <td>0.0</td>\n      <td>57.0</td>\n      <td>154.000000</td>\n      <td>132.0</td>\n      <td>284.000000</td>\n      <td>305.000000</td>\n      <td>36.666667</td>\n      <td>6.000000</td>\n      <td>89.642857</td>\n      <td>1.265995e+04</td>\n    </tr>\n    <tr>\n      <th>21</th>\n      <td>24.000000</td>\n      <td>15.000000</td>\n      <td>74.000000</td>\n      <td>88.000000</td>\n      <td>75.000000</td>\n      <td>15.000000</td>\n      <td>0.0</td>\n      <td>30.0</td>\n      <td>161.000000</td>\n      <td>129.0</td>\n      <td>158.000000</td>\n      <td>253.000000</td>\n      <td>60.000000</td>\n      <td>2.666667</td>\n      <td>77.476190</td>\n      <td>8.019952e+03</td>\n    </tr>\n    <tr>\n      <th>22</th>\n      <td>15.000000</td>\n      <td>10.333333</td>\n      <td>52.000000</td>\n      <td>77.333333</td>\n      <td>37.333333</td>\n      <td>3.000000</td>\n      <td>0.0</td>\n      <td>53.0</td>\n      <td>108.000000</td>\n      <td>145.0</td>\n      <td>97.000000</td>\n      <td>181.000000</td>\n      <td>61.000000</td>\n      <td>3.333333</td>\n      <td>60.238095</td>\n      <td>5.034473e+03</td>\n    </tr>\n    <tr>\n      <th>23</th>\n      <td>9.000000</td>\n      <td>6.000000</td>\n      <td>27.333333</td>\n      <td>34.000000</td>\n      <td>9.000000</td>\n      <td>0.000000</td>\n      <td>0.0</td>\n      <td>101.0</td>\n      <td>83.000000</td>\n      <td>63.0</td>\n      <td>68.000000</td>\n      <td>113.000000</td>\n      <td>27.000000</td>\n      <td>7.000000</td>\n      <td>39.095238</td>\n      <td>1.927946e+03</td>\n    </tr>\n    <tr>\n      <th>24</th>\n      <td>12.000000</td>\n      <td>0.000000</td>\n      <td>33.000000</td>\n      <td>28.000000</td>\n      <td>48.000000</td>\n      <td>0.000000</td>\n      <td>0.0</td>\n      <td>71.0</td>\n      <td>44.000000</td>\n      <td>51.0</td>\n      <td>92.000000</td>\n      <td>196.000000</td>\n      <td>47.000000</td>\n      <td>3.333333</td>\n      <td>44.666667</td>\n      <td>6.427099e+03</td>\n    </tr>\n    <tr>\n      <th>25</th>\n      <td>33.000000</td>\n      <td>3.000000</td>\n      <td>48.000000</td>\n      <td>27.000000</td>\n      <td>69.333333</td>\n      <td>1.333333</td>\n      <td>0.0</td>\n      <td>79.0</td>\n      <td>73.000000</td>\n      <td>27.0</td>\n      <td>69.000000</td>\n      <td>130.000000</td>\n      <td>71.000000</td>\n      <td>0.000000</td>\n      <td>45.047619</td>\n      <td>2.972575e+03</td>\n    </tr>\n    <tr>\n      <th>26</th>\n      <td>30.000000</td>\n      <td>3.000000</td>\n      <td>27.000000</td>\n      <td>27.000000</td>\n      <td>0.000000</td>\n      <td>18.000000</td>\n      <td>0.0</td>\n      <td>49.0</td>\n      <td>50.000000</td>\n      <td>23.0</td>\n      <td>37.000000</td>\n      <td>57.000000</td>\n      <td>40.000000</td>\n      <td>3.333333</td>\n      <td>26.023810</td>\n      <td>8.378384e+02</td>\n    </tr>\n    <tr>\n      <th>27</th>\n      <td>12.000000</td>\n      <td>3.000000</td>\n      <td>6.000000</td>\n      <td>18.000000</td>\n      <td>0.000000</td>\n      <td>21.000000</td>\n      <td>0.0</td>\n      <td>22.0</td>\n      <td>35.000000</td>\n      <td>20.0</td>\n      <td>38.000000</td>\n      <td>59.000000</td>\n      <td>88.000000</td>\n      <td>7.000000</td>\n      <td>23.500000</td>\n      <td>9.339337e+02</td>\n    </tr>\n    <tr>\n      <th>28</th>\n      <td>3.000000</td>\n      <td>4.333333</td>\n      <td>6.000000</td>\n      <td>16.333333</td>\n      <td>5.666667</td>\n      <td>10.333333</td>\n      <td>0.0</td>\n      <td>26.0</td>\n      <td>13.000000</td>\n      <td>26.0</td>\n      <td>25.000000</td>\n      <td>53.000000</td>\n      <td>85.000000</td>\n      <td>3.333333</td>\n      <td>19.785714</td>\n      <td>8.624303e+02</td>\n    </tr>\n    <tr>\n      <th>29</th>\n      <td>4.333333</td>\n      <td>28.000000</td>\n      <td>7.333333</td>\n      <td>9.000000</td>\n      <td>3.000000</td>\n      <td>41.000000</td>\n      <td>0.0</td>\n      <td>17.0</td>\n      <td>6.000000</td>\n      <td>35.0</td>\n      <td>46.000000</td>\n      <td>58.000000</td>\n      <td>25.000000</td>\n      <td>0.000000</td>\n      <td>19.976190</td>\n      <td>6.898452e+02</td>\n    </tr>\n    <tr>\n      <th>30</th>\n      <td>13.000000</td>\n      <td>39.000000</td>\n      <td>15.000000</td>\n      <td>6.000000</td>\n      <td>10.000000</td>\n      <td>9.000000</td>\n      <td>0.0</td>\n      <td>0.0</td>\n      <td>12.000000</td>\n      <td>83.0</td>\n      <td>48.000000</td>\n      <td>72.000000</td>\n      <td>28.000000</td>\n      <td>0.000000</td>\n      <td>23.928571</td>\n      <td>1.417179e+03</td>\n    </tr>\n    <tr>\n      <th>31</th>\n      <td>27.000000</td>\n      <td>31.333333</td>\n      <td>6.000000</td>\n      <td>3.000000</td>\n      <td>12.333333</td>\n      <td>4.333333</td>\n      <td>0.0</td>\n      <td>7.0</td>\n      <td>6.000000</td>\n      <td>72.0</td>\n      <td>31.000000</td>\n      <td>35.333333</td>\n      <td>18.000000</td>\n      <td>0.000000</td>\n      <td>18.095238</td>\n      <td>7.983163e+02</td>\n    </tr>\n    <tr>\n      <th>32</th>\n      <td>5.000000</td>\n      <td>3.000000</td>\n      <td>4.333333</td>\n      <td>0.000000</td>\n      <td>0.000000</td>\n      <td>3.000000</td>\n      <td>0.0</td>\n      <td>13.0</td>\n      <td>12.000000</td>\n      <td>32.0</td>\n      <td>37.000000</td>\n      <td>24.000000</td>\n      <td>14.000000</td>\n      <td>0.000000</td>\n      <td>10.523810</td>\n      <td>2.763639e+02</td>\n    </tr>\n    <tr>\n      <th>33</th>\n      <td>10.000000</td>\n      <td>0.000000</td>\n      <td>18.000000</td>\n      <td>6.000000</td>\n      <td>3.000000</td>\n      <td>3.000000</td>\n      <td>0.0</td>\n      <td>9.0</td>\n      <td>6.000000</td>\n      <td>36.0</td>\n      <td>56.000000</td>\n      <td>24.000000</td>\n      <td>6.000000</td>\n      <td>13.000000</td>\n      <td>13.571429</td>\n      <td>5.721735e+02</td>\n    </tr>\n    <tr>\n      <th>34</th>\n      <td>10.000000</td>\n      <td>0.000000</td>\n      <td>18.000000</td>\n      <td>15.000000</td>\n      <td>7.333333</td>\n      <td>12.000000</td>\n      <td>0.0</td>\n      <td>13.0</td>\n      <td>14.333333</td>\n      <td>23.0</td>\n      <td>56.000000</td>\n      <td>74.000000</td>\n      <td>24.000000</td>\n      <td>27.333333</td>\n      <td>21.000000</td>\n      <td>8.356429e+02</td>\n    </tr>\n    <tr>\n      <th>35</th>\n      <td>1.333333</td>\n      <td>0.000000</td>\n      <td>61.333333</td>\n      <td>7.333333</td>\n      <td>3.000000</td>\n      <td>6.000000</td>\n      <td>0.0</td>\n      <td>14.0</td>\n      <td>58.000000</td>\n      <td>18.0</td>\n      <td>25.000000</td>\n      <td>40.000000</td>\n      <td>11.000000</td>\n      <td>16.000000</td>\n      <td>18.642857</td>\n      <td>1.167124e+03</td>\n    </tr>\n  </tbody>\n</table>\n</div>"
     },
     "metadata": {},
     "execution_count": 24
    }
   ],
   "source": [
    "# len(ZoneAssignments[key])\n",
    "avgFrm"
   ]
  },
  {
   "source": [
    "## Zoning the Data"
   ],
   "cell_type": "markdown",
   "metadata": {}
  },
  {
   "cell_type": "code",
   "execution_count": 25,
   "metadata": {},
   "outputs": [],
   "source": [
    "zonedAvgFrame = {}\n",
    "for key in ZoneAssignments:\n",
    "    occourances = [list(ZoneAssignments[key]).count(x) for x in set(ZoneAssignments[key])]\n",
    "    zoneRunSum = [0]*numberOfZones\n",
    "    zonedAvgFrame[key] = averagedFrame[key]\n",
    "    for idx,column in enumerate(columns):\n",
    "        zoneRunSum[ZoneAssignments[key][idx]] += zonedAvgFrame[key][column]\n",
    "    for idx in range(numberOfZones):\n",
    "        zonedAvgFrame[key]['Zone '+str(idx+1)] = zoneRunSum[idx]/occourances[idx]"
   ]
  },
  {
   "cell_type": "code",
   "execution_count": 26,
   "metadata": {},
   "outputs": [
    {
     "output_type": "execute_result",
     "data": {
      "text/plain": [
       "0     10.500000\n",
       "1      6.875000\n",
       "2     12.750000\n",
       "3     10.625000\n",
       "4      9.750000\n",
       "5      6.375000\n",
       "6      3.375000\n",
       "7      2.041667\n",
       "8      6.666667\n",
       "9      5.875000\n",
       "10    11.458333\n",
       "11    25.541667\n",
       "12    32.916667\n",
       "13    52.250000\n",
       "14    56.041667\n",
       "15    43.875000\n",
       "16    45.500000\n",
       "17    61.458333\n",
       "18    52.166667\n",
       "19    34.250000\n",
       "20    39.625000\n",
       "21    43.875000\n",
       "22    32.000000\n",
       "23    14.041667\n",
       "24    21.000000\n",
       "25    31.583333\n",
       "26    18.125000\n",
       "27    18.500000\n",
       "28    16.333333\n",
       "29    14.708333\n",
       "30    15.000000\n",
       "31    12.750000\n",
       "32     3.666667\n",
       "33     5.750000\n",
       "34    10.791667\n",
       "35    11.250000\n",
       "Name: Zone 3, dtype: float64"
      ]
     },
     "metadata": {},
     "execution_count": 26
    }
   ],
   "source": [
    "zonedAvgFrame[key]['Zone '+str(idx)]"
   ]
  },
  {
   "cell_type": "code",
   "execution_count": 27,
   "metadata": {},
   "outputs": [],
   "source": [
    "# relies on columns still being the values of S-01 - last sensor\n",
    "\n",
    "# Declare an empty dictionary for storing the averaged data for each expirement at the end\n",
    "zonedExpFrame = {}\n",
    "# create a list of all of the various dict keys in expirementFrame so that we can iterate through them to get the data\n",
    "labels = list(expirementFrame.keys())\n",
    "# Take the labels list and remove the Exp # from it, so that now we have a list of keys that we can use to correctly save to create correctly corresponding keys for a dictionary that will store the averages\n",
    "keyList = [x.split(' Exp')[0] for x in labels]\n",
    "\n",
    "for index,exp in enumerate(labels):\n",
    "    # set the key variable to correspond to the exp variable\n",
    "    key = keyList[index]\n",
    "    # Create a runnning sum to keep track of the values\n",
    "    zoneRunSum = [0]*numberOfZones\n",
    "    # set the give the zoneExpFrame the same \n",
    "    zonedExpFrame[exp] = expirementFrame[exp]\n",
    "    occourances = [list(ZoneAssignments[key]).count(x) for x in set(ZoneAssignments[key])]\n",
    "    for idx,column in enumerate(columns):\n",
    "        zoneRunSum[ZoneAssignments[key][idx]] += zonedExpFrame[exp][column]\n",
    "    for idx in range(numberOfZones):\n",
    "        zonedExpFrame[exp]['Zone '+str(idx+1)] = zoneRunSum[idx]/occourances[idx]\n",
    "        \n"
   ]
  },
  {
   "cell_type": "code",
   "execution_count": 28,
   "metadata": {},
   "outputs": [
    {
     "output_type": "execute_result",
     "data": {
      "text/plain": [
       "'S-BU1'"
      ]
     },
     "metadata": {},
     "execution_count": 28
    }
   ],
   "source": [
    "column"
   ]
  },
  {
   "cell_type": "code",
   "execution_count": 29,
   "metadata": {},
   "outputs": [
    {
     "output_type": "execute_result",
     "data": {
      "text/plain": [
       "'S-BU1'"
      ]
     },
     "metadata": {},
     "execution_count": 29
    }
   ],
   "source": [
    "column"
   ]
  },
  {
   "cell_type": "code",
   "execution_count": 30,
   "metadata": {},
   "outputs": [],
   "source": [
    "directory = './averagedData'\n",
    "if not os.path.exists(directory):\n",
    "    os.makedirs(directory)\n",
    "for x in averagedFrame:\n",
    "    temp=averagedFrame[x]\n",
    "    location = os.path.join(directory,x+'.csv')\n",
    "    temp.to_csv(location,index=False)\n",
    "\n"
   ]
  },
  {
   "cell_type": "code",
   "execution_count": 31,
   "metadata": {},
   "outputs": [],
   "source": [
    "directory = './expirementData'\n",
    "if not os.path.exists(directory):\n",
    "    os.makedirs(directory)\n",
    "for x in expirementFrame:\n",
    "    temp=expirementFrame[x]\n",
    "    location = os.path.join(directory,x+'.csv')\n",
    "    temp.to_csv(location,index=False)"
   ]
  },
  {
   "source": [
    "### Increase the Resolution\n",
    "pad out the dataframes to have values for every second."
   ],
   "cell_type": "markdown",
   "metadata": {}
  },
  {
   "cell_type": "code",
   "execution_count": 32,
   "metadata": {},
   "outputs": [],
   "source": [
    "stretchedDF = {}\n",
    "for i in averagedFrame:\n",
    "    tempFrame = averagedFrame[i].values\n",
    "    tempList = []\n",
    "    for idx,x in enumerate(tempFrame):\n",
    "        try:\n",
    "            increment = (tempFrame[idx+1] - x)/10\n",
    "            for count in range(10):\n",
    "                tempList.append(x+increment*count)\n",
    "        except IndexError:\n",
    "            tempList.append(x)\n",
    "            continue\n",
    "    stretchedDF[i] = pd.DataFrame(tempList, columns = expirementFrame[list(expirementFrame.keys())[0]].columns)     "
   ]
  },
  {
   "cell_type": "code",
   "execution_count": 33,
   "metadata": {},
   "outputs": [],
   "source": [
    "stretchExpDf = {}\n",
    "for i in expirementFrame:\n",
    "    tempFrame = expirementFrame[i].values\n",
    "    tempList = []\n",
    "    for idx,x in enumerate(tempFrame):\n",
    "        try:\n",
    "            increment = (tempFrame[idx+1] - x)/10\n",
    "            for count in range(10):\n",
    "                tempList.append(x+increment*count)\n",
    "        except IndexError:\n",
    "            tempList.append(x)\n",
    "            continue\n",
    "    stretchExpDf[i] = pd.DataFrame(tempList, columns = expirementFrame[list(expirementFrame.keys())[0]].columns)"
   ]
  },
  {
   "cell_type": "code",
   "execution_count": 34,
   "metadata": {},
   "outputs": [],
   "source": [
    "directory = './stretchedAvgData'\n",
    "if not os.path.exists(directory):\n",
    "    os.makedirs(directory)\n",
    "for x in stretchedDF:\n",
    "    temp=stretchedDF[x]\n",
    "    location = os.path.join(directory,x+'.csv')\n",
    "    temp.to_csv(location,index=False)"
   ]
  },
  {
   "cell_type": "code",
   "execution_count": 35,
   "metadata": {},
   "outputs": [],
   "source": [
    "directory = './stretchedExpirementData'\n",
    "if not os.path.exists(directory):\n",
    "    os.makedirs(directory)\n",
    "for x in stretchExpDf:\n",
    "    temp=stretchExpDf[x]\n",
    "    location = os.path.join(directory,x+'.csv')\n",
    "    temp.to_csv(location,index=False)"
   ]
  },
  {
   "cell_type": "code",
   "execution_count": 36,
   "metadata": {},
   "outputs": [
    {
     "output_type": "stream",
     "name": "stdout",
     "text": [
      "17.962891578674316\n"
     ]
    }
   ],
   "source": [
    "end = clock.time()\n",
    "print(end-begin)"
   ]
  },
  {
   "cell_type": "code",
   "execution_count": null,
   "metadata": {},
   "outputs": [],
   "source": []
  }
 ]
}