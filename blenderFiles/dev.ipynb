{
 "metadata": {
  "language_info": {
   "codemirror_mode": {
    "name": "ipython",
    "version": 3
   },
   "file_extension": ".py",
   "mimetype": "text/x-python",
   "name": "python",
   "nbconvert_exporter": "python",
   "pygments_lexer": "ipython3",
   "version": "3.8.3-final"
  },
  "orig_nbformat": 2,
  "kernelspec": {
   "name": "python3",
   "display_name": "Python 3",
   "language": "python"
  }
 },
 "nbformat": 4,
 "nbformat_minor": 2,
 "cells": [
  {
   "cell_type": "code",
   "execution_count": 2,
   "metadata": {},
   "outputs": [],
   "source": [
    "import pandas as pd\n",
    "import os"
   ]
  },
  {
   "cell_type": "code",
   "execution_count": 12,
   "metadata": {},
   "outputs": [],
   "source": [
    "localRoute = []\n",
    "for x in label:\n",
    "    localRoute.append(os.path.join('C:/Users/Robert Rochlin/Documents/UW/covidDataProject/UWMedDecember/interpolatedData/',x+'.csv'))\n",
    "df = pd.read_csv(localRoute[0],parse_dates=[0])"
   ]
  },
  {
   "cell_type": "code",
   "execution_count": 3,
   "metadata": {},
   "outputs": [
    {
     "output_type": "execute_result",
     "data": {
      "text/plain": [
       "['S-01',\n",
       " 'S-03',\n",
       " 'S-04',\n",
       " 'S-05',\n",
       " 'S-06',\n",
       " 'S-07',\n",
       " 'S-08',\n",
       " 'S-09',\n",
       " 'S-10',\n",
       " 'S-11',\n",
       " 'S-12',\n",
       " 'S-13',\n",
       " 'S-14',\n",
       " 'S-15',\n",
       " 'S-BU2']"
      ]
     },
     "metadata": {},
     "execution_count": 3
    }
   ],
   "source": [
    "data={\n",
    "    'Size':[22,29],\n",
    "    'S-01':[3,3,2],\n",
    "    'S-02':[3,3,6],\n",
    "    'S-03':[19,3,6],\n",
    "    'S-04':[19,3,2],\n",
    "    'S-05':[3,26,2],\n",
    "    'S-06':[3,26,6],\n",
    "    'S-07':[19,26,2],\n",
    "    'S-08':[19,26,6],\n",
    "    'S-09':[13,17.5,3.5],\n",
    "    'S-10':[None,None,None],\n",
    "    'S-11':[11,10.5,3.5],\n",
    "    'S-12':[11,18.5,3.5],\n",
    "    'S-13':[11,17.5,3.5],\n",
    "    'S-14':[11,17.5,6.5],\n",
    "    'S-15':[18,17.5,6.5],\n",
    "    'S-BU1':[None,None,None],\n",
    "    'S-BU2':[9,17.5,3.5]\n",
    "    }\n",
    "label = [i for i in data if i not in ['Size','S-02','S-BU1']]\n",
    "label"
   ]
  },
  {
   "cell_type": "code",
   "execution_count": 13,
   "metadata": {},
   "outputs": [
    {
     "output_type": "execute_result",
     "data": {
      "text/plain": [
       "0        9\n",
       "1        4\n",
       "2        9\n",
       "3        9\n",
       "4        9\n",
       "        ..\n",
       "1139     9\n",
       "1140     0\n",
       "1141     0\n",
       "1142     0\n",
       "1143    18\n",
       "Name: Dp>0.3, Length: 1144, dtype: int64"
      ]
     },
     "metadata": {},
     "execution_count": 13
    }
   ],
   "source": [
    "df['Dp>0.3']"
   ]
  },
  {
   "cell_type": "code",
   "execution_count": null,
   "metadata": {},
   "outputs": [],
   "source": []
  }
 ]
}